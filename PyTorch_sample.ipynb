{
 "cells": [
  {
   "cell_type": "code",
   "execution_count": 1,
   "metadata": {},
   "outputs": [],
   "source": [
    "import torch\n",
    "from torch.autograd import Variable\n",
    "\n",
    "import matplotlib.pyplot as plt\n",
    "import seaborn as sns\n",
    "\n",
    "import sklearn.datasets as ds\n",
    "\n",
    "%matplotlib inline"
   ]
  },
  {
   "cell_type": "code",
   "execution_count": 2,
   "metadata": {},
   "outputs": [],
   "source": [
    "X, Y = ds.load_digits(n_class=2, return_X_y=True)\n",
    "\n",
    "Y = Y.reshape((-1, 1)).astype('float32')"
   ]
  },
  {
   "cell_type": "code",
   "execution_count": 3,
   "metadata": {},
   "outputs": [],
   "source": [
    "from sklearn.model_selection import train_test_split\n",
    "\n",
    "X_train, X_test, Y_train, Y_test = train_test_split(X, Y)\n",
    "\n",
    "num_samples = len(Y_train)\n",
    "num_features = X_train.shape[1]"
   ]
  },
  {
   "cell_type": "code",
   "execution_count": 4,
   "metadata": {},
   "outputs": [],
   "source": [
    "X_train = Variable(torch.Tensor(X_train), requires_grad=False)\n",
    "Y_train = Variable(torch.Tensor(Y_train), requires_grad=False)\n",
    "\n",
    "X_test = Variable(torch.Tensor(X_test), requires_grad=False)\n",
    "Y_test = Variable(torch.Tensor(Y_test), requires_grad=False)"
   ]
  },
  {
   "cell_type": "code",
   "execution_count": 5,
   "metadata": {},
   "outputs": [],
   "source": [
    "W = Variable(torch.randn(num_features, 1), requires_grad=True)\n",
    "b = Variable(torch.zeros(1, 1), requires_grad=True)"
   ]
  },
  {
   "cell_type": "code",
   "execution_count": 6,
   "metadata": {},
   "outputs": [
    {
     "name": "stdout",
     "output_type": "stream",
     "text": [
      "77.50751495361328 0.3888888955116272\n",
      "1.211103081703186 0.9666666388511658\n",
      "0.0813431516289711 1.0\n",
      "0.06706685572862625 1.0\n",
      "0.0668545588850975 1.0\n",
      "0.06685012578964233 1.0\n",
      "0.06684894859790802 1.0\n",
      "0.06684780865907669 1.0\n",
      "0.06684667617082596 1.0\n",
      "0.06684554368257523 1.0\n"
     ]
    }
   ],
   "source": [
    "def calc_result(W, b, X):\n",
    "    return torch.sigmoid(torch.mm(X, W) + b).clamp(min=1e-8, max=0.999)\n",
    "\n",
    "def calc_cost(result, Y):\n",
    "    return -torch.mean(Y * torch.log(result) + (1. - Y) * torch.log(1. - result))\n",
    "\n",
    "for epoch in range(1000):\n",
    "    result = calc_result(W, b, X_train)\n",
    "    cost = calc_cost(result, Y_train) + torch.sum(W.pow(2))\n",
    "    \n",
    "    result_test = calc_result(W, b, X_test)\n",
    "    error = torch.mean(torch.eq(result_test >= 0.5, Y_test.byte()).float())\n",
    "    \n",
    "    if epoch % 100 == 0:\n",
    "        print(cost.data[0], error.data[0])\n",
    "            \n",
    "    cost.backward()\n",
    "    \n",
    "    W.data -= 0.01 * W.grad.data\n",
    "    b.data -= 0.01 * b.grad.data\n",
    "    \n",
    "    W.grad.data.zero_()\n",
    "    b.grad.data.zero_()"
   ]
  },
  {
   "cell_type": "code",
   "execution_count": 7,
   "metadata": {},
   "outputs": [],
   "source": [
    "results = calc_result(W, b, Variable(torch.Tensor(X[0:6])))    "
   ]
  },
  {
   "cell_type": "code",
   "execution_count": 8,
   "metadata": {},
   "outputs": [
    {
     "data": {
      "image/png": "[encoded data removed]",
      "text/plain": [
       "<matplotlib.figure.Figure at 0x7f6dcea66cc0>"
      ]
     },
     "metadata": {},
     "output_type": "display_data"
    }
   ],
   "source": [
    "_, ax = plt.subplots(2, 3)\n",
    "for i in range(6):    \n",
    "    fig = ax[i // 3, i % 3]\n",
    "    fig.imshow(X[i].reshape((8, 8)), cmap=plt.cm.gray_r)\n",
    "    fig.set_title('%.4f' % results.data[i][0]) \n",
    "    fig.axis('off')"
   ]
  },
  {
   "cell_type": "code",
   "execution_count": null,
   "metadata": {},
   "outputs": [],
   "source": []
  }
 ],
 "metadata": {
  "kernelspec": {
   "display_name": "Python 3",
   "language": "python",
   "name": "python3"
  },
  "language_info": {
   "codemirror_mode": {
    "name": "ipython",
    "version": 3
   },
   "file_extension": ".py",
   "mimetype": "text/x-python",
   "name": "python",
   "nbconvert_exporter": "python",
   "pygments_lexer": "ipython3",
   "version": "3.6.3"
  }
 },
 "nbformat": 4,
 "nbformat_minor": 2
}
