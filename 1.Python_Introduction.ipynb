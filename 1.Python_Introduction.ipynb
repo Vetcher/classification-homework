{
 "cells": [
  {
   "cell_type": "markdown",
   "metadata": {},
   "source": [
    "# Введение в Python\n",
    "\n",
    "\n",
    "`Python` - скриптовый язык программирования общего назначения.\n",
    "\n",
    "Основные особенности:\n",
    "* **строгая** **динамическая** типизация\n",
    "* автоматическое управление памятью\n",
    "\n",
    "Преимущества:\n",
    "* интерпретируемость, нет необходимости компилировать код (+-)\n",
    "* развитая стандартная библиотека\n",
    "* большое количество сторонних библиотек\n",
    "* простота, отлично подходит для быстрого прототипирования\n",
    "\n",
    "Недостатки:\n",
    "* проблемы с производительностю (CPython)\n",
    "* проблемы с статическим анализом кода, невозможно создать вменяемую IDE\n",
    "* исторические проблемы, связанные с дизайном языка"
   ]
  },
  {
   "cell_type": "code",
   "execution_count": null,
   "metadata": {
    "collapsed": true
   },
   "outputs": [],
   "source": [
    "# Статическая типизация\n",
    "int a = 5;\n",
    "a = \"hello\";\n",
    "\n",
    "# Динамическая типизация\n",
    "a = 5\n",
    "a = \"hello\" # Ok"
   ]
  },
  {
   "cell_type": "code",
   "execution_count": null,
   "metadata": {
    "collapsed": true
   },
   "outputs": [],
   "source": [
    "# Строгая типизация\n",
    "a = \"10\"\n",
    "b = a + 5 #ошибка\n",
    "\n",
    "# Слабая типизация\n",
    "a = \"10\"\n",
    "a = a + 5 # ???? 15? \"105\"?"
   ]
  },
  {
   "cell_type": "markdown",
   "metadata": {},
   "source": [
    "## Python для научных вычислений и машинного обучения \n",
    "\n",
    "Язык общего назначения, но с помощью сторонних библиотек (Scientific Python) можно использоватьв качестве альтернативы для MATLAB, Mathematica, R.\n",
    "\n",
    "* **[numpy](https://pypi.python.org/pypi/numpy)** - линейная алгебра, случайные числа, базовые операции\n",
    "* **[scipy](https://pypi.python.org/pypi/scipy)** - статистика, численные методы и многое другое\n",
    "* **[matplotlib](https://pypi.python.org/pypi/matplotlib)** - рисование графиков, визуализация\n",
    "* **[pandas](https://pypi.python.org/pypi/pandas)** - работа с данными в стиле R\n",
    "* **[simpy](http://www.sympy.org/en/index.html)** - символьные вычисления (Maple)\n",
    "* **[scikit-learn](http://scikit-learn.org)** - машинное обучение\n",
    "* **[statsmodels](http://statsmodels.sourceforge.net)** - статистика, машинное обучение\n",
    "* **[pymc](http://pymc-devs.github.io/pymc)** - байесовское статистическое моделирование\n",
    "* **[networkx](https://pypi.python.org/pypi/networkx)** - работа с графами, визуализация, раскладка\n",
    "\n",
    "Преимущества:\n",
    "\n",
    "* свободное программное обеспечение\n",
    "* огромный выбор библиотек\n",
    "* можно создавать production-ready системы\n",
    "* низкоуровневые библиотеки написаны на C (производительность)\n",
    "* можно легко писать С-расширения (cython)\n",
    "* параллельные вычисления \n",
    "\n",
    "Недостатки:\n",
    "\n",
    "* по функциональности может уступать специализированным языкам программирования (например, **R**)\n",
    "* врожденные органичения интерпретатора (отсутствие JIT, GIL и т.д.)"
   ]
  },
  {
   "cell_type": "markdown",
   "metadata": {},
   "source": [
    "## Выбор версии\n",
    "\n",
    "Python2 и Python3 по сути два различных языка, не совместимы. Мотивация создания Python3 - исправить недостатки в дизайне языка.\n",
    " \n",
    "**Python2:**\n",
    " \n",
    " * библиотеки\n",
    " * много legacy кода\n",
    " * не развивается, поддержка закончится в 2020 году\n",
    " \n",
    "\n",
    "**Python3:**\n",
    " \n",
    " * не все библиотеки нормально портированы (в основном маргинальные), процесс идет\n",
    "\n",
    "Проверка версий: \n",
    "   \n",
    "    $ python --version\n",
    "    \n",
    "    $ python3 --version    \n",
    "    "
   ]
  },
  {
   "cell_type": "markdown",
   "metadata": {},
   "source": [
    "## Реализации Python\n",
    "\n",
    "**CPython**\n",
    "\n",
    "* эталонная реализация\n",
    "* старый интерпретатор, с проблемами в дизайне (GIL) \n",
    "\n",
    "**PyPy**\n",
    "\n",
    "* JIT\n",
    "* в общем случае быстрее\n",
    "* не совместим со многими библиотеками, использующими нативные библиотеки\n",
    "\n",
    "**Jython**\n",
    "\n",
    "* JVM\n",
    "\n",
    "**IronPython**\n",
    "\n",
    "* CLR\n",
    "\n",
    "## Установка Python\n",
    "\n",
    "**Linux:** \n",
    "Проще использовать системный пакетный менеджер (apt,yum)\n",
    "\n",
    "     $ sudo apt-get install python-dev python-pip cython ipython-notebook python-numpy python-scipy\n",
    "    \n",
    "**Windows:**\n",
    "[Anaconda Scientific Python Distribution](https://store.continuum.io/cshop/anaconda/) \n",
    "   \n",
    "    \n",
    "\n",
    "## Скрипты Python \n",
    "\n",
    "Скрипты хранятся в файлах с расширением *.py \n",
    "\n",
    "В начале каждого файла рекомендуется добавлять шапку:"
   ]
  },
  {
   "cell_type": "code",
   "execution_count": 1,
   "metadata": {
    "collapsed": true
   },
   "outputs": [],
   "source": [
    "#!/usr/bin/env python\n",
    "# -*- coding: utf-8 -*-\n",
    "\n",
    "# тут код"
   ]
  },
  {
   "cell_type": "markdown",
   "metadata": {},
   "source": [
    "* на первой строчке находится т.н. shebang, в Unix-системах указание оболочке, какую программу нужно использовать для запуска скрипта  \n",
    "* на второй строчке указание интерпретатору Python на кодировку исходного текста скрипта. Разумеется всегда нужно использовать utf-8\n",
    "\n",
    "Запуск скрипта:\n",
    "\n",
    "    $ python python_script.py"
   ]
  },
  {
   "cell_type": "markdown",
   "metadata": {},
   "source": [
    "## IPython notebook\n",
    "\n",
    "Запуск из командной строки:\n",
    "\n",
    "    $ ipython notebook\n",
    "\n",
    "Зачем это нужно?\n",
    "\n",
    "* своего рода web-based IDE\n",
    "* \"альтернативный\" подход, как в Mathematica \n",
    "* удобно для экспериментов\n",
    "* богатая инфраструктура, программы, взаимодействие с **R** и так далее\n",
    "* блокноты хранятся в специальном формате *.ipynb\n",
    "* http://nbviewer.ipython.org/ - ресурс для распространения блокнотов\n",
    "\n",
    "Концепция ячеек:\n",
    "\n",
    "* в каждой ячейке может быть текст (документация) или код\n",
    "* ячейку можно запустить и сразу получить результат\n",
    "* в каждой ячейке нужно писать какую-то малую логическую часть кода\n",
    "* состояние можно сохранить\n",
    "\n",
    "Горячие клавиши:\n",
    "\n",
    "* Ctrl+Enter - запустить ячейку\n",
    "* Ctrl+Shift - запустить ячейку и переместиться вниз\n",
    "* Esc+m - текстовая ячейка\n",
    "* Esc+y - ячейка с кодом\n",
    "* Ctrl+m+b - вставить новую ячейку за текущей ячейкой\n",
    "* Ctrl+m+a - вставить новую ячейку перед текущей ячейкой\n",
    "* Ctrl+m+x - удалить текущую ячейку\n",
    "\n",
    "**&lt;tab&gt;** - автодополнение кода"
   ]
  },
  {
   "cell_type": "markdown",
   "metadata": {},
   "source": [
    "# Программирование на Python\n",
    "\n",
    "### Система модулей\n",
    "\n",
    "Python имеет систему пакетов и модулей, модуль подключается с помощью директивы *import* . Модуль (module) - базовое понятие языка. Содержит код и глобальные переменные. "
   ]
  },
  {
   "cell_type": "markdown",
   "metadata": {},
   "source": [
    "после чего в текущем пространстве имен становятся доступны все определенные в модули функции, классы и переменные."
   ]
  },
  {
   "cell_type": "code",
   "execution_count": 2,
   "metadata": {},
   "outputs": [
    {
     "data": {
      "text/plain": [
       "2"
      ]
     },
     "execution_count": 2,
     "metadata": {},
     "output_type": "execute_result"
    }
   ],
   "source": [
    "import random\n",
    "random.randint(1,5)"
   ]
  },
  {
   "cell_type": "markdown",
   "metadata": {},
   "source": [
    "Возможен альтернативный синтаксис:"
   ]
  },
  {
   "cell_type": "code",
   "execution_count": 3,
   "metadata": {},
   "outputs": [
    {
     "data": {
      "text/plain": [
       "-9.853550463876394"
      ]
     },
     "execution_count": 3,
     "metadata": {},
     "output_type": "execute_result"
    }
   ],
   "source": [
    "from random import randint, gauss # импортирует из модуля функции randint и gauss\n",
    "\n",
    "gauss(0, 4)"
   ]
  },
  {
   "cell_type": "markdown",
   "metadata": {},
   "source": [
    "Можно так:"
   ]
  },
  {
   "cell_type": "code",
   "execution_count": 4,
   "metadata": {},
   "outputs": [
    {
     "data": {
      "text/plain": [
       "0.6931471805599453"
      ]
     },
     "execution_count": 4,
     "metadata": {},
     "output_type": "execute_result"
    }
   ],
   "source": [
    "from random import *\n",
    "import math as m\n",
    "\n",
    "m.log(2)"
   ]
  },
  {
   "cell_type": "markdown",
   "metadata": {},
   "source": [
    "Помощь по функциям:"
   ]
  },
  {
   "cell_type": "code",
   "execution_count": 5,
   "metadata": {
    "collapsed": true
   },
   "outputs": [],
   "source": [
    "randint?"
   ]
  },
  {
   "cell_type": "code",
   "execution_count": 6,
   "metadata": {},
   "outputs": [
    {
     "name": "stdout",
     "output_type": "stream",
     "text": [
      "Help on built-in function log in module math:\n",
      "\n",
      "log(...)\n",
      "    log(x[, base])\n",
      "    \n",
      "    Return the logarithm of x to the given base.\n",
      "    If the base not specified, returns the natural logarithm (base e) of x.\n",
      "\n"
     ]
    }
   ],
   "source": [
    "help(m.log)"
   ]
  },
  {
   "cell_type": "code",
   "execution_count": 7,
   "metadata": {},
   "outputs": [
    {
     "data": {
      "text/plain": [
       "['__doc__',\n",
       " '__loader__',\n",
       " '__name__',\n",
       " '__package__',\n",
       " '__spec__',\n",
       " 'acos',\n",
       " 'acosh',\n",
       " 'asin',\n",
       " 'asinh',\n",
       " 'atan',\n",
       " 'atan2',\n",
       " 'atanh',\n",
       " 'ceil',\n",
       " 'copysign',\n",
       " 'cos',\n",
       " 'cosh',\n",
       " 'degrees',\n",
       " 'e',\n",
       " 'erf',\n",
       " 'erfc',\n",
       " 'exp',\n",
       " 'expm1',\n",
       " 'fabs',\n",
       " 'factorial',\n",
       " 'floor',\n",
       " 'fmod',\n",
       " 'frexp',\n",
       " 'fsum',\n",
       " 'gamma',\n",
       " 'hypot',\n",
       " 'isfinite',\n",
       " 'isinf',\n",
       " 'isnan',\n",
       " 'ldexp',\n",
       " 'lgamma',\n",
       " 'log',\n",
       " 'log10',\n",
       " 'log1p',\n",
       " 'log2',\n",
       " 'modf',\n",
       " 'pi',\n",
       " 'pow',\n",
       " 'radians',\n",
       " 'sin',\n",
       " 'sinh',\n",
       " 'sqrt',\n",
       " 'tan',\n",
       " 'tanh',\n",
       " 'trunc']"
      ]
     },
     "execution_count": 7,
     "metadata": {},
     "output_type": "execute_result"
    }
   ],
   "source": [
    "import math\n",
    "dir(math)"
   ]
  },
  {
   "cell_type": "markdown",
   "metadata": {},
   "source": [
    "### Переменные"
   ]
  },
  {
   "cell_type": "markdown",
   "metadata": {},
   "source": [
    "Имена переменных в Python могут содержать буквы, цифры и `_`, начинаться должны с буквы (`_` в начале может имеет семантическую нагрузку). По соглашению, имена переменных начинаются с маленькой буквы, имена классов - с большой.\n",
    "\n",
    "Ключевые слова:\n",
    "\n",
    "    and, as, assert, break, class, continue, def, del, elif, else, except, \n",
    "    exec, finally, for, from, global, if, import, in, is, lambda, not, or,\n",
    "    pass, print, raise, return, try, while, with, yield\n"
   ]
  },
  {
   "cell_type": "markdown",
   "metadata": {},
   "source": [
    "### Простые базовые типы данных"
   ]
  },
  {
   "cell_type": "code",
   "execution_count": 8,
   "metadata": {},
   "outputs": [
    {
     "data": {
      "text/plain": [
       "int"
      ]
     },
     "execution_count": 8,
     "metadata": {},
     "output_type": "execute_result"
    }
   ],
   "source": [
    "a = 2 # int\n",
    "type(a)"
   ]
  },
  {
   "cell_type": "code",
   "execution_count": 9,
   "metadata": {},
   "outputs": [
    {
     "data": {
      "text/plain": [
       "float"
      ]
     },
     "execution_count": 9,
     "metadata": {},
     "output_type": "execute_result"
    }
   ],
   "source": [
    "a = 2.5\n",
    "type(a)"
   ]
  },
  {
   "cell_type": "code",
   "execution_count": 10,
   "metadata": {},
   "outputs": [
    {
     "data": {
      "text/plain": [
       "complex"
      ]
     },
     "execution_count": 10,
     "metadata": {},
     "output_type": "execute_result"
    }
   ],
   "source": [
    "a = 2 + 5j\n",
    "b = 3j\n",
    "type(a)"
   ]
  },
  {
   "cell_type": "code",
   "execution_count": 11,
   "metadata": {},
   "outputs": [
    {
     "data": {
      "text/plain": [
       "bool"
      ]
     },
     "execution_count": 11,
     "metadata": {},
     "output_type": "execute_result"
    }
   ],
   "source": [
    "a = True\n",
    "b = False\n",
    "type(a)"
   ]
  },
  {
   "cell_type": "code",
   "execution_count": 12,
   "metadata": {},
   "outputs": [
    {
     "data": {
      "text/plain": [
       "NoneType"
      ]
     },
     "execution_count": 12,
     "metadata": {},
     "output_type": "execute_result"
    }
   ],
   "source": [
    "a = None\n",
    "type(a)"
   ]
  },
  {
   "cell_type": "markdown",
   "metadata": {},
   "source": [
    "### Преобразование типов\n",
    "\n",
    "Преобразовать один тип к другому можно с помошью конструкторов"
   ]
  },
  {
   "cell_type": "code",
   "execution_count": 13,
   "metadata": {},
   "outputs": [
    {
     "data": {
      "text/plain": [
       "(1, 0)"
      ]
     },
     "execution_count": 13,
     "metadata": {},
     "output_type": "execute_result"
    }
   ],
   "source": [
    "int(True), int(False)"
   ]
  },
  {
   "cell_type": "code",
   "execution_count": 14,
   "metadata": {},
   "outputs": [
    {
     "data": {
      "text/plain": [
       "2.0"
      ]
     },
     "execution_count": 14,
     "metadata": {},
     "output_type": "execute_result"
    }
   ],
   "source": [
    "float(2)"
   ]
  },
  {
   "cell_type": "markdown",
   "metadata": {},
   "source": [
    "## Математические операции"
   ]
  },
  {
   "cell_type": "code",
   "execution_count": 15,
   "metadata": {},
   "outputs": [
    {
     "data": {
      "text/plain": [
       "(0.6666666666666666,\n",
       " 0,\n",
       " 10000000000000000000000000000000000000000000000000000000000000000000000000000000000000000000000000000000000)"
      ]
     },
     "execution_count": 15,
     "metadata": {},
     "output_type": "execute_result"
    }
   ],
   "source": [
    "2 / 3, 2 // 3, 10 ** 106"
   ]
  },
  {
   "cell_type": "code",
   "execution_count": 16,
   "metadata": {},
   "outputs": [
    {
     "data": {
      "text/plain": [
       "int"
      ]
     },
     "execution_count": 16,
     "metadata": {},
     "output_type": "execute_result"
    }
   ],
   "source": [
    "type(2 ** 160)"
   ]
  },
  {
   "cell_type": "code",
   "execution_count": 17,
   "metadata": {},
   "outputs": [
    {
     "data": {
      "text/plain": [
       "(False, True)"
      ]
     },
     "execution_count": 17,
     "metadata": {},
     "output_type": "execute_result"
    }
   ],
   "source": [
    "(False and True, True and True)"
   ]
  },
  {
   "cell_type": "code",
   "execution_count": 18,
   "metadata": {},
   "outputs": [
    {
     "data": {
      "text/plain": [
       "True"
      ]
     },
     "execution_count": 18,
     "metadata": {},
     "output_type": "execute_result"
    }
   ],
   "source": [
    "a = False\n",
    "not a"
   ]
  },
  {
   "cell_type": "code",
   "execution_count": 19,
   "metadata": {},
   "outputs": [
    {
     "data": {
      "text/plain": [
       "(True, True, True, False)"
      ]
     },
     "execution_count": 19,
     "metadata": {},
     "output_type": "execute_result"
    }
   ],
   "source": [
    "a = 4\n",
    "a < 5, 1 < a < 7, a <= 4, 2 == 4"
   ]
  },
  {
   "cell_type": "markdown",
   "metadata": {},
   "source": [
    "### Строки"
   ]
  },
  {
   "cell_type": "code",
   "execution_count": 20,
   "metadata": {},
   "outputs": [
    {
     "data": {
      "text/plain": [
       "('first string', 'second string', str)"
      ]
     },
     "execution_count": 20,
     "metadata": {},
     "output_type": "execute_result"
    }
   ],
   "source": [
    "s1 = \"first string\"\n",
    "s2 = 'second string'\n",
    "s1, s2, type(s1)"
   ]
  },
  {
   "cell_type": "markdown",
   "metadata": {},
   "source": [
    "* методы\n",
    "    * **.find(s)** - поиск первого вхождения\n",
    "    * **.split(s)** - разделить на строки\n",
    "    * **.islower()**, **.isupper()**, **.isdigit()**, **.isspace()**, **.isalnum()**\n",
    "    * **.replace(s1, s2)**\n",
    "    * **.lstrip()**, **.rstrip()**, **.strip()** - удалить пробельные символы по краям\n",
    "    * **.count(s)** - число вхождний подстроки\n",
    "    * **.startswith(s)**, **.endswith(s)**\n",
    "    * **.join([s1, s2, s3])**   "
   ]
  },
  {
   "cell_type": "code",
   "execution_count": 21,
   "metadata": {},
   "outputs": [
    {
     "data": {
      "text/plain": [
       "'Hello worl'"
      ]
     },
     "execution_count": 21,
     "metadata": {},
     "output_type": "execute_result"
    }
   ],
   "source": [
    "s = 'Hello world'\n",
    "s[:-1]"
   ]
  },
  {
   "cell_type": "markdown",
   "metadata": {},
   "source": [
    "* Python2 "
   ]
  },
  {
   "cell_type": "code",
   "execution_count": 22,
   "metadata": {},
   "outputs": [
    {
     "name": "stdout",
     "output_type": "stream",
     "text": [
      "Привет мир! <class 'str'>\n"
     ]
    }
   ],
   "source": [
    "s = u'Привет мир!'\n",
    "print (s, type(s))"
   ]
  },
  {
   "cell_type": "markdown",
   "metadata": {},
   "source": [
    "* Python3"
   ]
  },
  {
   "cell_type": "code",
   "execution_count": 23,
   "metadata": {
    "collapsed": true
   },
   "outputs": [],
   "source": [
    "s = 'Привет мир!'"
   ]
  },
  {
   "cell_type": "markdown",
   "metadata": {},
   "source": [
    "* Индексирование"
   ]
  },
  {
   "cell_type": "code",
   "execution_count": 24,
   "metadata": {},
   "outputs": [
    {
     "data": {
      "text/plain": [
       "(12, 'H', '!')"
      ]
     },
     "execution_count": 24,
     "metadata": {},
     "output_type": "execute_result"
    }
   ],
   "source": [
    "s = 'Hello World!'\n",
    "len(s), s[0], s[-1]"
   ]
  },
  {
   "cell_type": "code",
   "execution_count": 25,
   "metadata": {},
   "outputs": [
    {
     "data": {
      "text/plain": [
       "'Held'"
      ]
     },
     "execution_count": 25,
     "metadata": {},
     "output_type": "execute_result"
    }
   ],
   "source": [
    "b = s[0:3] + s[-2:-1]\n",
    "b"
   ]
  },
  {
   "cell_type": "code",
   "execution_count": 26,
   "metadata": {},
   "outputs": [
    {
     "data": {
      "text/plain": [
       "('Hello World!', '!dlroW olleH', 'el ol')"
      ]
     },
     "execution_count": 26,
     "metadata": {},
     "output_type": "execute_result"
    }
   ],
   "source": [
    "s, s[::-1], s[1:-1:2]"
   ]
  },
  {
   "cell_type": "code",
   "execution_count": 27,
   "metadata": {},
   "outputs": [
    {
     "data": {
      "text/plain": [
       "'!dlroW olle'"
      ]
     },
     "execution_count": 27,
     "metadata": {},
     "output_type": "execute_result"
    }
   ],
   "source": [
    "s[:0:-1]"
   ]
  },
  {
   "cell_type": "code",
   "execution_count": 28,
   "metadata": {},
   "outputs": [
    {
     "data": {
      "text/plain": [
       "'5'"
      ]
     },
     "execution_count": 28,
     "metadata": {},
     "output_type": "execute_result"
    }
   ],
   "source": [
    "str(5)"
   ]
  },
  {
   "cell_type": "markdown",
   "metadata": {},
   "source": [
    "* Форматирование строк"
   ]
  },
  {
   "cell_type": "code",
   "execution_count": 29,
   "metadata": {},
   "outputs": [
    {
     "data": {
      "text/plain": [
       "'00005 3.123 hello'"
      ]
     },
     "execution_count": 29,
     "metadata": {},
     "output_type": "execute_result"
    }
   ],
   "source": [
    "'%05d %05.3f %s' % (5, 3.123456, 'hello')"
   ]
  },
  {
   "cell_type": "code",
   "execution_count": 30,
   "metadata": {},
   "outputs": [
    {
     "data": {
      "text/plain": [
       "'0005 2.58'"
      ]
     },
     "execution_count": 30,
     "metadata": {},
     "output_type": "execute_result"
    }
   ],
   "source": [
    "'%04d %.2f' % (5, 2.578)"
   ]
  },
  {
   "cell_type": "code",
   "execution_count": 31,
   "metadata": {},
   "outputs": [
    {
     "data": {
      "text/plain": [
       "'00120'"
      ]
     },
     "execution_count": 31,
     "metadata": {},
     "output_type": "execute_result"
    }
   ],
   "source": [
    "'%05d' % 120"
   ]
  },
  {
   "cell_type": "code",
   "execution_count": 32,
   "metadata": {},
   "outputs": [
    {
     "data": {
      "text/plain": [
       "'0.50 00005 hello'"
      ]
     },
     "execution_count": 32,
     "metadata": {},
     "output_type": "execute_result"
    }
   ],
   "source": [
    "'{0:.2f} {1:05d} {2}'.format(0.5, 5, 'hello')"
   ]
  },
  {
   "cell_type": "markdown",
   "metadata": {},
   "source": [
    "### Списки"
   ]
  },
  {
   "cell_type": "markdown",
   "metadata": {},
   "source": [
    "* Операции индексирования как со строками"
   ]
  },
  {
   "cell_type": "code",
   "execution_count": 33,
   "metadata": {},
   "outputs": [
    {
     "data": {
      "text/plain": [
       "[1, 'aaa', 2]"
      ]
     },
     "execution_count": 33,
     "metadata": {},
     "output_type": "execute_result"
    }
   ],
   "source": [
    "[1, 'aaa', 2]"
   ]
  },
  {
   "cell_type": "code",
   "execution_count": 34,
   "metadata": {},
   "outputs": [
    {
     "data": {
      "text/plain": [
       "(3, 1, 3)"
      ]
     },
     "execution_count": 34,
     "metadata": {},
     "output_type": "execute_result"
    }
   ],
   "source": [
    "lst = [1, 2, 3]\n",
    "len(lst), lst[0], lst[-1]"
   ]
  },
  {
   "cell_type": "markdown",
   "metadata": {},
   "source": [
    "* методы\n",
    "    * **.append(k)** - добавление элемента в конец\n",
    "    * **.extend([k1, k2, k3])**\n",
    "    * **.remove(k)** - удалить первое вхождение\n",
    "    * **.pop()** - удалить последний элемент\n",
    "    * **.count(k)** - число элементов в списке\n",
    "    * **.index(k)** - индекс первого элемента\n",
    "    * **.insert(i, k)**  - вставить *k* на позицию *i*"
   ]
  },
  {
   "cell_type": "code",
   "execution_count": 35,
   "metadata": {},
   "outputs": [
    {
     "data": {
      "text/plain": [
       "[1, 2, 3, 4]"
      ]
     },
     "execution_count": 35,
     "metadata": {},
     "output_type": "execute_result"
    }
   ],
   "source": [
    "lst.append(4)\n",
    "lst"
   ]
  },
  {
   "cell_type": "markdown",
   "metadata": {},
   "source": [
    "* конкатенация"
   ]
  },
  {
   "cell_type": "code",
   "execution_count": 36,
   "metadata": {},
   "outputs": [
    {
     "data": {
      "text/plain": [
       "[1, 2, 3, 4, 4, 5, 6]"
      ]
     },
     "execution_count": 36,
     "metadata": {},
     "output_type": "execute_result"
    }
   ],
   "source": [
    "lst2 = [4, 5, 6]\n",
    "lst3 = lst + lst2\n",
    "lst3"
   ]
  },
  {
   "cell_type": "markdown",
   "metadata": {},
   "source": [
    "* вытащить последний элемент"
   ]
  },
  {
   "cell_type": "code",
   "execution_count": 37,
   "metadata": {},
   "outputs": [
    {
     "data": {
      "text/plain": [
       "6"
      ]
     },
     "execution_count": 37,
     "metadata": {},
     "output_type": "execute_result"
    }
   ],
   "source": [
    "lst3.pop()"
   ]
  },
  {
   "cell_type": "markdown",
   "metadata": {},
   "source": [
    "* вставить элемент на конкретную позицию"
   ]
  },
  {
   "cell_type": "code",
   "execution_count": 38,
   "metadata": {},
   "outputs": [
    {
     "data": {
      "text/plain": [
       "[1, 'a', 2, 3, 4, 4, 5]"
      ]
     },
     "execution_count": 38,
     "metadata": {},
     "output_type": "execute_result"
    }
   ],
   "source": [
    "lst3.insert(1, 'a')\n",
    "lst3"
   ]
  },
  {
   "cell_type": "markdown",
   "metadata": {},
   "source": [
    "* удаление элемента по значению"
   ]
  },
  {
   "cell_type": "code",
   "execution_count": 39,
   "metadata": {},
   "outputs": [
    {
     "data": {
      "text/plain": [
       "[1, 3, 2, 4]"
      ]
     },
     "execution_count": 39,
     "metadata": {},
     "output_type": "execute_result"
    }
   ],
   "source": [
    "lst = [1, 3, 2, 2, 4]\n",
    "lst.remove(2)\n",
    "lst"
   ]
  },
  {
   "cell_type": "markdown",
   "metadata": {},
   "source": [
    "* удаление по индексу"
   ]
  },
  {
   "cell_type": "code",
   "execution_count": 40,
   "metadata": {},
   "outputs": [
    {
     "data": {
      "text/plain": [
       "[1, 3, 4]"
      ]
     },
     "execution_count": 40,
     "metadata": {},
     "output_type": "execute_result"
    }
   ],
   "source": [
    "del lst[2]\n",
    "lst"
   ]
  },
  {
   "cell_type": "code",
   "execution_count": 41,
   "metadata": {},
   "outputs": [
    {
     "data": {
      "text/plain": [
       "range(0, 5)"
      ]
     },
     "execution_count": 41,
     "metadata": {},
     "output_type": "execute_result"
    }
   ],
   "source": [
    "range(0, 5)"
   ]
  },
  {
   "cell_type": "markdown",
   "metadata": {},
   "source": [
    "### Кортежи"
   ]
  },
  {
   "cell_type": "markdown",
   "metadata": {},
   "source": [
    "* методы\n",
    "    * **.count(s)**\n",
    "    * **.index(s)**"
   ]
  },
  {
   "cell_type": "code",
   "execution_count": 42,
   "metadata": {},
   "outputs": [
    {
     "data": {
      "text/plain": [
       "(1, 2, 3)"
      ]
     },
     "execution_count": 42,
     "metadata": {},
     "output_type": "execute_result"
    }
   ],
   "source": [
    "t = (1, 2, 3)\n",
    "t"
   ]
  },
  {
   "cell_type": "markdown",
   "metadata": {},
   "source": [
    "* кортежи нельзя модифицировать"
   ]
  },
  {
   "cell_type": "code",
   "execution_count": 43,
   "metadata": {},
   "outputs": [
    {
     "ename": "TypeError",
     "evalue": "'tuple' object does not support item assignment",
     "output_type": "error",
     "traceback": [
      "\u001b[1;31m---------------------------------------------------------------------------\u001b[0m",
      "\u001b[1;31mTypeError\u001b[0m                                 Traceback (most recent call last)",
      "\u001b[1;32m<ipython-input-43-8d3d8637cb4b>\u001b[0m in \u001b[0;36m<module>\u001b[1;34m()\u001b[0m\n\u001b[1;32m----> 1\u001b[1;33m \u001b[0mt\u001b[0m\u001b[1;33m[\u001b[0m\u001b[1;36m0\u001b[0m\u001b[1;33m]\u001b[0m \u001b[1;33m=\u001b[0m \u001b[1;36m5\u001b[0m\u001b[1;33m\u001b[0m\u001b[0m\n\u001b[0m",
      "\u001b[1;31mTypeError\u001b[0m: 'tuple' object does not support item assignment"
     ]
    }
   ],
   "source": [
    "t[0] = 5"
   ]
  },
  {
   "cell_type": "code",
   "execution_count": 44,
   "metadata": {},
   "outputs": [
    {
     "data": {
      "text/plain": [
       "1"
      ]
     },
     "execution_count": 44,
     "metadata": {},
     "output_type": "execute_result"
    }
   ],
   "source": [
    "a, b, c = t\n",
    "a"
   ]
  },
  {
   "cell_type": "markdown",
   "metadata": {},
   "source": [
    "* подходят для хранения структурированных данных"
   ]
  },
  {
   "cell_type": "code",
   "execution_count": 45,
   "metadata": {},
   "outputs": [
    {
     "data": {
      "text/plain": [
       "('Ivanov', 'Ivan', 'Ivanovich', 25, 'M')"
      ]
     },
     "execution_count": 45,
     "metadata": {},
     "output_type": "execute_result"
    }
   ],
   "source": [
    "t = ('Ivanov', 'Ivan', 'Ivanovich', 25, 'M')\n",
    "t"
   ]
  },
  {
   "cell_type": "markdown",
   "metadata": {},
   "source": [
    "### Множества"
   ]
  },
  {
   "cell_type": "code",
   "execution_count": 46,
   "metadata": {},
   "outputs": [
    {
     "data": {
      "text/plain": [
       "{1, 2, 3}"
      ]
     },
     "execution_count": 46,
     "metadata": {},
     "output_type": "execute_result"
    }
   ],
   "source": [
    "s = {1, 2, 3}\n",
    "s = set([1, 2, 3])\n",
    "s"
   ]
  },
  {
   "cell_type": "code",
   "execution_count": 47,
   "metadata": {},
   "outputs": [
    {
     "data": {
      "text/plain": [
       "{1, 2, 3}"
      ]
     },
     "execution_count": 47,
     "metadata": {},
     "output_type": "execute_result"
    }
   ],
   "source": [
    "l = {1, 2, 3} \n",
    "l.union([5]) # l + set([5])\n",
    "\n",
    "l"
   ]
  },
  {
   "cell_type": "markdown",
   "metadata": {},
   "source": [
    "* методы\n",
    "    * **.add(k)**\n",
    "    * **.clear()**\n",
    "    * **.discard(k)** - удалить элемент\n",
    "    * **.pop()** - удалить произвольный элемент, если множество пусто, то бросить исключение\n",
    "    * **.remove(k)** - удалить элемент, если такого нет, то бросить исключение\n",
    "    * **.update({k1, k2, k3})**\n",
    "    * **.difference({k1, k2, k3})**\n",
    "    * **.union({k1, k2, k3})**\n",
    "    * **.intersection({k1, k2, k3})**\n",
    "    * **.issubset({k1, k2, k3})**\n",
    "    * **.issuperset({k1, k2, k3})**\n",
    " \n",
    "    "
   ]
  },
  {
   "cell_type": "code",
   "execution_count": 48,
   "metadata": {},
   "outputs": [
    {
     "data": {
      "text/plain": [
       "True"
      ]
     },
     "execution_count": 48,
     "metadata": {},
     "output_type": "execute_result"
    }
   ],
   "source": [
    "2 in s"
   ]
  },
  {
   "cell_type": "code",
   "execution_count": 49,
   "metadata": {},
   "outputs": [
    {
     "data": {
      "text/plain": [
       "True"
      ]
     },
     "execution_count": 49,
     "metadata": {},
     "output_type": "execute_result"
    }
   ],
   "source": [
    "5 not in s"
   ]
  },
  {
   "cell_type": "code",
   "execution_count": 50,
   "metadata": {},
   "outputs": [
    {
     "data": {
      "text/plain": [
       "{1, 2, 3, 5}"
      ]
     },
     "execution_count": 50,
     "metadata": {},
     "output_type": "execute_result"
    }
   ],
   "source": [
    "s.add(5)\n",
    "s"
   ]
  },
  {
   "cell_type": "code",
   "execution_count": 51,
   "metadata": {},
   "outputs": [
    {
     "data": {
      "text/plain": [
       "{1, 2, 3}"
      ]
     },
     "execution_count": 51,
     "metadata": {},
     "output_type": "execute_result"
    }
   ],
   "source": [
    "{ 1 } | {2, 3, 5} - {5}"
   ]
  },
  {
   "cell_type": "code",
   "execution_count": 52,
   "metadata": {},
   "outputs": [
    {
     "data": {
      "text/plain": [
       "{2}"
      ]
     },
     "execution_count": 52,
     "metadata": {},
     "output_type": "execute_result"
    }
   ],
   "source": [
    "{1, 2} & {2, 5}"
   ]
  },
  {
   "cell_type": "code",
   "execution_count": 53,
   "metadata": {
    "collapsed": true
   },
   "outputs": [],
   "source": [
    "s = {1, 2, 3}\n",
    "s.remove(3)"
   ]
  },
  {
   "cell_type": "markdown",
   "metadata": {},
   "source": [
    "### Словари"
   ]
  },
  {
   "cell_type": "markdown",
   "metadata": {},
   "source": [
    "* методы\n",
    "    * **.clear()**\n",
    "    * **.items()** - список пар (ключ, значение)\n",
    "    * **.keys()** - список ключей\n",
    "    * **.iteritems()** - итератор для пар (ключ, значение)\n",
    "    * **.pop(k[,d])** - удалить ключ, возвратить значение \n",
    "    * **.get(k[,d])** - значение по ключу\n",
    "    * **.values()** - список значений\n",
    "    * **.update(d)** - добавить все пары ключ/значение из *d*"
   ]
  },
  {
   "cell_type": "code",
   "execution_count": 54,
   "metadata": {},
   "outputs": [
    {
     "data": {
      "text/plain": [
       "{'hello': 2, 5: 'a'}"
      ]
     },
     "execution_count": 54,
     "metadata": {},
     "output_type": "execute_result"
    }
   ],
   "source": [
    "d = dict() # a = {}\n",
    "d['hello'] = 2\n",
    "d[5] = 'a'\n",
    "d"
   ]
  },
  {
   "cell_type": "code",
   "execution_count": 55,
   "metadata": {},
   "outputs": [
    {
     "data": {
      "text/plain": [
       "{'t': 7, 1: 5}"
      ]
     },
     "execution_count": 55,
     "metadata": {},
     "output_type": "execute_result"
    }
   ],
   "source": [
    "d = dict([(1, 5), ('t', 7)])\n",
    "d = {1: 5, 't': 7}\n",
    "d"
   ]
  },
  {
   "cell_type": "code",
   "execution_count": 56,
   "metadata": {},
   "outputs": [
    {
     "ename": "KeyError",
     "evalue": "8",
     "output_type": "error",
     "traceback": [
      "\u001b[1;31m---------------------------------------------------------------------------\u001b[0m",
      "\u001b[1;31mKeyError\u001b[0m                                  Traceback (most recent call last)",
      "\u001b[1;32m<ipython-input-56-6c8d5bcb3d76>\u001b[0m in \u001b[0;36m<module>\u001b[1;34m()\u001b[0m\n\u001b[1;32m----> 1\u001b[1;33m \u001b[0md\u001b[0m\u001b[1;33m[\u001b[0m\u001b[1;36m8\u001b[0m\u001b[1;33m]\u001b[0m\u001b[1;33m\u001b[0m\u001b[0m\n\u001b[0m",
      "\u001b[1;31mKeyError\u001b[0m: 8"
     ]
    }
   ],
   "source": [
    "d[8]"
   ]
  },
  {
   "cell_type": "code",
   "execution_count": 57,
   "metadata": {},
   "outputs": [
    {
     "data": {
      "text/plain": [
       "-1"
      ]
     },
     "execution_count": 57,
     "metadata": {},
     "output_type": "execute_result"
    }
   ],
   "source": [
    "d.get(8, -1)"
   ]
  },
  {
   "cell_type": "code",
   "execution_count": 58,
   "metadata": {},
   "outputs": [
    {
     "data": {
      "text/plain": [
       "(dict_keys(['t', 1]), dict_values([7, 5]))"
      ]
     },
     "execution_count": 58,
     "metadata": {},
     "output_type": "execute_result"
    }
   ],
   "source": [
    "d.keys(), d.values()"
   ]
  },
  {
   "cell_type": "markdown",
   "metadata": {},
   "source": [
    "### Управляющие конструкции"
   ]
  },
  {
   "cell_type": "code",
   "execution_count": 59,
   "metadata": {},
   "outputs": [
    {
     "name": "stdout",
     "output_type": "stream",
     "text": [
      "6\n"
     ]
    }
   ],
   "source": [
    "s = 0\n",
    "for i in [1, 2, 3]:\n",
    "    s += i\n",
    "print(s)"
   ]
  },
  {
   "cell_type": "code",
   "execution_count": 60,
   "metadata": {},
   "outputs": [
    {
     "data": {
      "text/plain": [
       "[(0, 'a'), (1, 'b'), (2, 'c')]"
      ]
     },
     "execution_count": 60,
     "metadata": {},
     "output_type": "execute_result"
    }
   ],
   "source": [
    "list(enumerate(['a', 'b', 'c']))"
   ]
  },
  {
   "cell_type": "code",
   "execution_count": 61,
   "metadata": {},
   "outputs": [
    {
     "data": {
      "text/plain": [
       "[('a', 0), ('b', 1), ('c', 2)]"
      ]
     },
     "execution_count": 61,
     "metadata": {},
     "output_type": "execute_result"
    }
   ],
   "source": [
    "lst = ['a', 'b', 'c']\n",
    "result = []\n",
    "for (i, x) in enumerate(lst):\n",
    "    result.append((x, i))\n",
    "    \n",
    "result"
   ]
  },
  {
   "cell_type": "code",
   "execution_count": 62,
   "metadata": {},
   "outputs": [
    {
     "data": {
      "text/plain": [
       "[0, 1, 2, 3, 4, 5]"
      ]
     },
     "execution_count": 62,
     "metadata": {},
     "output_type": "execute_result"
    }
   ],
   "source": [
    "i = 0\n",
    "lst = []\n",
    "while len(lst) < 6:\n",
    "    lst.append(i)\n",
    "    i += 1\n",
    "lst"
   ]
  },
  {
   "cell_type": "code",
   "execution_count": 63,
   "metadata": {},
   "outputs": [
    {
     "data": {
      "text/plain": [
       "(1, 0)"
      ]
     },
     "execution_count": 63,
     "metadata": {},
     "output_type": "execute_result"
    }
   ],
   "source": [
    "def find(el, lst):\n",
    "    for i, x in enumerate(lst):\n",
    "        if el == x:\n",
    "            break\n",
    "    else:\n",
    "        return 0\n",
    "    \n",
    "    return 1\n",
    "    \n",
    "find(1, [1, 2, 3]), find(0, [1, 2, 3])"
   ]
  },
  {
   "cell_type": "code",
   "execution_count": 64,
   "metadata": {
    "collapsed": true
   },
   "outputs": [],
   "source": [
    "a = 2\n",
    "if a < 5:\n",
    "    a = 1\n",
    "elif a == 5:\n",
    "    a = 2\n",
    "else: \n",
    "    a = 3    "
   ]
  },
  {
   "cell_type": "markdown",
   "metadata": {},
   "source": [
    "### List comprehension"
   ]
  },
  {
   "cell_type": "code",
   "execution_count": 65,
   "metadata": {},
   "outputs": [
    {
     "data": {
      "text/plain": [
       "[1, 4, 9]"
      ]
     },
     "execution_count": 65,
     "metadata": {},
     "output_type": "execute_result"
    }
   ],
   "source": [
    "l = [1, 2, 3]\n",
    "l = [x * x for x in l]\n",
    "l"
   ]
  },
  {
   "cell_type": "code",
   "execution_count": 66,
   "metadata": {},
   "outputs": [
    {
     "data": {
      "text/plain": [
       "[4, 16, 36, 64]"
      ]
     },
     "execution_count": 66,
     "metadata": {},
     "output_type": "execute_result"
    }
   ],
   "source": [
    "[x * x for x in range(1, 10) if x % 2 == 0]"
   ]
  },
  {
   "cell_type": "code",
   "execution_count": 67,
   "metadata": {},
   "outputs": [
    {
     "data": {
      "text/plain": [
       "[[0],\n",
       " [0, 1, 2],\n",
       " [0, 1, 2, 3, 4],\n",
       " [0, 1, 2, 3, 4, 5, 6],\n",
       " [0, 1, 2, 3, 4, 5, 6, 7, 8]]"
      ]
     },
     "execution_count": 67,
     "metadata": {},
     "output_type": "execute_result"
    }
   ],
   "source": [
    "[list(range(x)) for x in range(1, 10) if x % 2 == 1]"
   ]
  },
  {
   "cell_type": "code",
   "execution_count": 68,
   "metadata": {},
   "outputs": [
    {
     "data": {
      "text/plain": [
       "[(1, 16), (2, 8), (4, 4), (8, 2), (16, 1)]"
      ]
     },
     "execution_count": 68,
     "metadata": {},
     "output_type": "execute_result"
    }
   ],
   "source": [
    "[(x, y) for x in range(1, 20) for y in range(1, 20) if x * y == 16]"
   ]
  },
  {
   "cell_type": "code",
   "execution_count": 69,
   "metadata": {},
   "outputs": [
    {
     "data": {
      "text/plain": [
       "{0: 0, 1: 1, 4: 2, 9: 3, 16: 4}"
      ]
     },
     "execution_count": 69,
     "metadata": {},
     "output_type": "execute_result"
    }
   ],
   "source": [
    "{ x * x : x for x in range(5) }"
   ]
  },
  {
   "cell_type": "code",
   "execution_count": 70,
   "metadata": {},
   "outputs": [
    {
     "data": {
      "text/plain": [
       "'1-2-3-4-5-6-7-8-9-10-11-12-13-14-15-16'"
      ]
     },
     "execution_count": 70,
     "metadata": {},
     "output_type": "execute_result"
    }
   ],
   "source": [
    "text = ['Hello', 'world', '!']\n",
    "text_filtered = [t.lower() for t in text if t.isalpha()]\n",
    "'-'.join([str(i) for i in range(1, 17)])"
   ]
  },
  {
   "cell_type": "markdown",
   "metadata": {},
   "source": [
    "### Функции"
   ]
  },
  {
   "cell_type": "code",
   "execution_count": 71,
   "metadata": {},
   "outputs": [
    {
     "data": {
      "text/plain": [
       "(5, '23', 2.0, 1.0)"
      ]
     },
     "execution_count": 71,
     "metadata": {},
     "output_type": "execute_result"
    }
   ],
   "source": [
    "def add(a, b):\n",
    "    return a + b\n",
    "\n",
    "div = lambda a, b : a / b\n",
    "\n",
    "add(2, 3), add('2', '3'), div(4, 2), div(b=2, a=2)"
   ]
  },
  {
   "cell_type": "code",
   "execution_count": 72,
   "metadata": {},
   "outputs": [
    {
     "name": "stdout",
     "output_type": "stream",
     "text": [
      "1\n",
      "(7, 10) <class 'tuple'>\n",
      "{} <class 'dict'>\n"
     ]
    }
   ],
   "source": [
    "def foo(a, *args, **kwargs):\n",
    "    print(a) \n",
    "    print(args, type(args)) \n",
    "    print(kwargs, type(kwargs)) \n",
    "\n",
    "foo(1, 7, 10)"
   ]
  },
  {
   "cell_type": "code",
   "execution_count": 73,
   "metadata": {},
   "outputs": [
    {
     "data": {
      "text/plain": [
       "12"
      ]
     },
     "execution_count": 73,
     "metadata": {},
     "output_type": "execute_result"
    }
   ],
   "source": [
    "def foo(f, a, b):\n",
    "    return f(a, b)\n",
    "\n",
    "foo(add, 5, 7)"
   ]
  },
  {
   "cell_type": "code",
   "execution_count": 74,
   "metadata": {},
   "outputs": [
    {
     "data": {
      "text/plain": [
       "12"
      ]
     },
     "execution_count": 74,
     "metadata": {},
     "output_type": "execute_result"
    }
   ],
   "source": [
    "def appl(f, a):\n",
    "    return lambda x: f(a, x)\n",
    "\n",
    "add_2 = appl(add, 2)\n",
    "add_2(10)"
   ]
  },
  {
   "cell_type": "code",
   "execution_count": 75,
   "metadata": {},
   "outputs": [
    {
     "data": {
      "text/plain": [
       "[1, 2, 3, 5, 7]"
      ]
     },
     "execution_count": 75,
     "metadata": {},
     "output_type": "execute_result"
    }
   ],
   "source": [
    "lst = [3, 2, 5, 1, 7]\n",
    "sorted(lst)"
   ]
  },
  {
   "cell_type": "code",
   "execution_count": 76,
   "metadata": {},
   "outputs": [
    {
     "data": {
      "text/plain": [
       "[1, 2, 3, 5, 7]"
      ]
     },
     "execution_count": 76,
     "metadata": {},
     "output_type": "execute_result"
    }
   ],
   "source": [
    "lst.sort()\n",
    "lst"
   ]
  },
  {
   "cell_type": "code",
   "execution_count": 77,
   "metadata": {},
   "outputs": [
    {
     "data": {
      "text/plain": [
       "[(7, 'brightly'), (5, 'the'), (2, 'sun'), (2, 'shines')]"
      ]
     },
     "execution_count": 77,
     "metadata": {},
     "output_type": "execute_result"
    }
   ],
   "source": [
    "lst = [(5, 'the'), (2, 'sun'), (2, 'shines'), (7, 'brightly')]\n",
    "lst.sort(key=lambda x: -x[0])\n",
    "lst"
   ]
  },
  {
   "cell_type": "markdown",
   "metadata": {},
   "source": [
    "### Итераторы и генераторы"
   ]
  },
  {
   "cell_type": "code",
   "execution_count": 78,
   "metadata": {},
   "outputs": [
    {
     "data": {
      "text/plain": [
       "(1, 2, 3)"
      ]
     },
     "execution_count": 78,
     "metadata": {},
     "output_type": "execute_result"
    }
   ],
   "source": [
    "it = iter([1, 2, 3])\n",
    "next(it), next(it), next(it)"
   ]
  },
  {
   "cell_type": "code",
   "execution_count": 79,
   "metadata": {},
   "outputs": [
    {
     "name": "stdout",
     "output_type": "stream",
     "text": [
      "1\n",
      "2\n",
      "3\n"
     ]
    }
   ],
   "source": [
    "def action(x):\n",
    "    print(x)\n",
    "\n",
    "lst = [1, 2, 3]\n",
    "\n",
    "for x in lst:\n",
    "    action(x)"
   ]
  },
  {
   "cell_type": "markdown",
   "metadata": {},
   "source": [
    "приблизительно эквивалентно"
   ]
  },
  {
   "cell_type": "code",
   "execution_count": 80,
   "metadata": {},
   "outputs": [
    {
     "name": "stdout",
     "output_type": "stream",
     "text": [
      "1\n",
      "2\n",
      "3\n"
     ]
    }
   ],
   "source": [
    "it = iter(lst)\n",
    "while True:\n",
    "    try:\n",
    "        value = next(it)        \n",
    "    except StopIteration:\n",
    "        break            \n",
    "    action(value)\n",
    "    "
   ]
  },
  {
   "cell_type": "markdown",
   "metadata": {},
   "source": [
    "* **Генератор** - это специальная функция, которая содержит хотя бы один оператор *yield* . Вызов функции интерпретируется как создание итератора, в момент вызова *yield* выполнение приостанавливается."
   ]
  },
  {
   "cell_type": "code",
   "execution_count": 81,
   "metadata": {},
   "outputs": [
    {
     "name": "stdout",
     "output_type": "stream",
     "text": [
      "From yield #0\n",
      "After yield 0\n",
      "From yield #1\n",
      "After yield 1\n",
      "From yield #2\n",
      "After yield 2\n",
      "After yield 0\n"
     ]
    },
    {
     "data": {
      "text/plain": [
       "('From yield once again #0', 'From yield once again #1')"
      ]
     },
     "execution_count": 81,
     "metadata": {},
     "output_type": "execute_result"
    }
   ],
   "source": [
    "def gen(val):\n",
    "    for i in range(3):\n",
    "        yield '%s #%d' % (val, i) \n",
    "        print('After yield %d' % i)\n",
    "    \n",
    "for val in gen('From yield'):\n",
    "    print(val)\n",
    "    \n",
    "it = gen('From yield once again')    \n",
    "next(it), next(it)"
   ]
  },
  {
   "cell_type": "markdown",
   "metadata": {},
   "source": [
    "* в качестве альтернативы можно использовать list comprehension, только с круглыми скобками"
   ]
  },
  {
   "cell_type": "code",
   "execution_count": 82,
   "metadata": {},
   "outputs": [
    {
     "data": {
      "text/plain": [
       "(2, 4)"
      ]
     },
     "execution_count": 82,
     "metadata": {},
     "output_type": "execute_result"
    }
   ],
   "source": [
    "gen = (x for x in range(1, 100) if x % 2 == 0)\n",
    "next(gen), next(gen)"
   ]
  },
  {
   "cell_type": "markdown",
   "metadata": {},
   "source": [
    "### Классы"
   ]
  },
  {
   "cell_type": "code",
   "execution_count": 83,
   "metadata": {
    "collapsed": true
   },
   "outputs": [],
   "source": [
    "class Person:        \n",
    "    def __init__(self, name, age, children=[]):\n",
    "        self.name = name\n",
    "        self.age = age\n",
    "        self.children = children\n",
    "        \n",
    "    def add_child(self, child):\n",
    "        self.children.append(child)\n",
    "        \n",
    "    def __str__(self):\n",
    "        return self.name\n",
    "    \n",
    "    def __repr__(self):\n",
    "        return 'Person(\"{}\", {}, {})'.format(self.name, self.age, repr(self.children))\n",
    "    "
   ]
  },
  {
   "cell_type": "code",
   "execution_count": 84,
   "metadata": {},
   "outputs": [
    {
     "name": "stdout",
     "output_type": "stream",
     "text": [
      "Person(\"Ivan Ivanov\", 35, [])\n",
      "Ivan Ivanov\n",
      "Ivan Ivanov\n"
     ]
    }
   ],
   "source": [
    "person = Person('Ivan Ivanov', 35)\n",
    "print('{}\\n{}\\n{}'.format(repr(person), str(person), person))"
   ]
  },
  {
   "cell_type": "code",
   "execution_count": 85,
   "metadata": {},
   "outputs": [
    {
     "data": {
      "text/plain": [
       "{'age': 35, 'children': [], 'name': 'Ivan Ivanov'}"
      ]
     },
     "execution_count": 85,
     "metadata": {},
     "output_type": "execute_result"
    }
   ],
   "source": [
    "vars(person)"
   ]
  },
  {
   "cell_type": "code",
   "execution_count": 86,
   "metadata": {},
   "outputs": [
    {
     "data": {
      "text/plain": [
       "['__class__',\n",
       " '__delattr__',\n",
       " '__dict__',\n",
       " '__dir__',\n",
       " '__doc__',\n",
       " '__eq__',\n",
       " '__format__',\n",
       " '__ge__',\n",
       " '__getattribute__',\n",
       " '__gt__',\n",
       " '__hash__',\n",
       " '__init__',\n",
       " '__le__',\n",
       " '__lt__',\n",
       " '__module__',\n",
       " '__ne__',\n",
       " '__new__',\n",
       " '__reduce__',\n",
       " '__reduce_ex__',\n",
       " '__repr__',\n",
       " '__setattr__',\n",
       " '__sizeof__',\n",
       " '__str__',\n",
       " '__subclasshook__',\n",
       " '__weakref__',\n",
       " 'add_child',\n",
       " 'age',\n",
       " 'children',\n",
       " 'name']"
      ]
     },
     "execution_count": 86,
     "metadata": {},
     "output_type": "execute_result"
    }
   ],
   "source": [
    "dir(person)"
   ]
  },
  {
   "cell_type": "markdown",
   "metadata": {},
   "source": [
    "* для классов, предназначенных только для хранения данных, можно использовать *namedtuple*"
   ]
  },
  {
   "cell_type": "code",
   "execution_count": 87,
   "metadata": {},
   "outputs": [
    {
     "data": {
      "text/plain": [
       "(Person(name='Ivanov', age=20), 'Ivanov', 20)"
      ]
     },
     "execution_count": 87,
     "metadata": {},
     "output_type": "execute_result"
    }
   ],
   "source": [
    "from collections import namedtuple\n",
    "\n",
    "Person = namedtuple('Person', ['name', 'age'])\n",
    "person = Person(name='Ivanov', age=20)\n",
    "person, person.name, person.age"
   ]
  },
  {
   "cell_type": "code",
   "execution_count": 90,
   "metadata": {
    "collapsed": true
   },
   "outputs": [],
   "source": [
    "class FibSequence:\n",
    "    def __init__(self, start0, start1):\n",
    "        self.start0 = start0\n",
    "        self.start1 = start1\n",
    "        \n",
    "    def __iter__(self):\n",
    "        yield self.start0\n",
    "        yield self.start1\n",
    "        while True:\n",
    "            self.start0, self.start1  = self.start1, self.start0 + self.start1\n",
    "            yield self.start1                                "
   ]
  },
  {
   "cell_type": "code",
   "execution_count": 91,
   "metadata": {},
   "outputs": [
    {
     "name": "stdout",
     "output_type": "stream",
     "text": [
      "0 1\n",
      "1 2\n",
      "2 3\n",
      "3 5\n",
      "4 8\n",
      "5 13\n"
     ]
    }
   ],
   "source": [
    "fib_seq = FibSequence(1, 2)\n",
    "\n",
    "for i, num in enumerate(fib_seq):\n",
    "    print(i, num)\n",
    "    if i >= 5:\n",
    "        break"
   ]
  }
 ],
 "metadata": {
  "kernelspec": {
   "display_name": "Python 3",
   "language": "python",
   "name": "python3"
  },
  "language_info": {
   "codemirror_mode": {
    "name": "ipython",
    "version": 3
   },
   "file_extension": ".py",
   "mimetype": "text/x-python",
   "name": "python",
   "nbconvert_exporter": "python",
   "pygments_lexer": "ipython3",
   "version": "3.5.3"
  }
 },
 "nbformat": 4,
 "nbformat_minor": 1
}
