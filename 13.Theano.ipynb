{
 "cells": [
  {
   "cell_type": "markdown",
   "metadata": {},
   "source": [
    "# Theano\n",
    "\n",
    "- описываем математическое выражение\n",
    "- компилируем выражение (CPU или GPU)\n",
    "- запускаем\n",
    "\n",
    "\n",
    "Синнтаксис чем-то напоминает *NumPy*. Выражение можно описать с помощью переменных следующих типов:\n",
    "- скаляры *theano.tensor.scalar*\n",
    "- векторы *theano.tensor.vector*\n",
    "- матрицы *theano.tensor.matrix*\n"
   ]
  },
  {
   "cell_type": "code",
   "execution_count": 2,
   "metadata": {},
   "outputs": [],
   "source": [
    "import numpy as np\n",
    "import scipy as sp\n",
    "import theano\n",
    "import theano.tensor as T\n",
    "import matplotlib.pyplot as plt\n",
    "import seaborn as sns\n",
    "\n",
    "import sklearn.datasets as ds\n",
    "\n",
    "%matplotlib inline"
   ]
  },
  {
   "cell_type": "markdown",
   "metadata": {},
   "source": [
    "#### Переменные"
   ]
  },
  {
   "cell_type": "code",
   "execution_count": 3,
   "metadata": {},
   "outputs": [],
   "source": [
    "#x = T.vector('x', dtype=theano.config.floatX)\n",
    "x = T.scalar()\n",
    "z = T.scalar()\n",
    "y  = x ** 2 + x + z"
   ]
  },
  {
   "cell_type": "raw",
   "metadata": {},
   "source": [
    "компилируем и вычисляем, подставляя конкретные значения"
   ]
  },
  {
   "cell_type": "code",
   "execution_count": 4,
   "metadata": {},
   "outputs": [
    {
     "data": {
      "text/plain": [
       "array(32.0, dtype=float32)"
      ]
     },
     "execution_count": 4,
     "metadata": {},
     "output_type": "execute_result"
    }
   ],
   "source": [
    "y.eval({x: 5, z: 2})"
   ]
  },
  {
   "cell_type": "markdown",
   "metadata": {},
   "source": [
    "Выражение описывается символьно, таким образом мы можем вычислить градиент выражения по набору переменных:"
   ]
  },
  {
   "cell_type": "code",
   "execution_count": 5,
   "metadata": {},
   "outputs": [
    {
     "data": {
      "text/plain": [
       "array(21.0, dtype=float32)"
      ]
     },
     "execution_count": 5,
     "metadata": {},
     "output_type": "execute_result"
    }
   ],
   "source": [
    "grad_y_x = T.grad(y, x)\n",
    "grad_y_x.eval({x: 10, z: 2})"
   ]
  },
  {
   "cell_type": "code",
   "execution_count": 7,
   "metadata": {},
   "outputs": [
    {
     "data": {
      "text/plain": [
       "array([[ 48.08553696,  48.08553696],\n",
       "       [ 48.08553696,  48.08553696]], dtype=float32)"
      ]
     },
     "execution_count": 7,
     "metadata": {},
     "output_type": "execute_result"
    }
   ],
   "source": [
    "dtype = theano.config.floatX\n",
    "\n",
    "W = T.matrix()\n",
    "D = T.matrix()\n",
    "V = T.vector()\n",
    "Z = T.dot(W, D) + W**2 + T.exp(D) + T.dot(W, V)\n",
    "\n",
    "Z.eval({ \n",
    "    W: np.array([[2, 2], [2, 2]], dtype=dtype),\n",
    "    D: np.array([[3, 3], [3, 3]], dtype=dtype), \n",
    "    V: np.array([1, 5], dtype=dtype) })"
   ]
  },
  {
   "cell_type": "markdown",
   "metadata": {},
   "source": [
    "#### Типы данных\n",
    "\n",
    "Из-за особенностей архитектуры некоторых GPU,  операции с 32-разрядными (*float32*) числами с плавающей точкой могут выполнятся намного быстрее, чем с 64-разрядными (*float64*). Таким образом рекомендуется явно указывать тип и имя переменной, что полезно при отладке:"
   ]
  },
  {
   "cell_type": "code",
   "execution_count": 8,
   "metadata": {},
   "outputs": [],
   "source": [
    "W = T.matrix('W', dtype=theano.config.floatX)\n",
    "x = T.scalar('x', dtype=theano.config.floatX)"
   ]
  },
  {
   "cell_type": "markdown",
   "metadata": {},
   "source": [
    "Конкретный тип для *theano.config.floatX* можно указать в конфигурационном файле theano.\n",
    "\n",
    "Можно распечатать символьное представление выражения:"
   ]
  },
  {
   "cell_type": "code",
   "execution_count": 9,
   "metadata": {},
   "outputs": [
    {
     "data": {
      "text/plain": [
       "'((x ** TensorConstant{2}) + x)'"
      ]
     },
     "execution_count": 9,
     "metadata": {},
     "output_type": "execute_result"
    }
   ],
   "source": [
    "theano.pprint(x ** 2 + x)"
   ]
  },
  {
   "cell_type": "markdown",
   "metadata": {},
   "source": [
    "Пакет *theano.tensor* содержит оргомное число конструкторов переменных: \n",
    "\n",
    "| Constructor | dtype      | ndim | shape     |\n",
    "|-------------|------------|------|-----------|\n",
    "| bscalar     | int8       | 0    | ()        |\n",
    "| bvector     | int8       | 1    | (?,)      |\n",
    "| brow        | int8       | 2    | (1,?)     |\n",
    "| bcol        | int8       | 2    | (?,1)     |\n",
    "| bmatrix     | int8       | 2    | (?,?)     |\n",
    "| wscalar     | int16      | 0    | ()        |\n",
    "| wvector     | int16      | 1    | (?,)      |\n",
    "| wrow        | int16      | 2    | (1,?)     |\n",
    "| wcol        | int16      | 2    | (?,1)     |\n",
    "| wmatrix     | int16      | 2    | (?,?)     |\n",
    "| wtensor3    | int16      | 3    | (?,?,?)   |\n",
    "| wtensor4    | int16      | 4    | (?,?,?,?) |\n",
    "| iscalar     | int32      | 0    | ()        |\n",
    "| ivector     | int32      | 1    | (?,)      |\n",
    "| irow        | int32      | 2    | (1,?)     |\n",
    "| icol        | int32      | 2    | (?,1)     |\n",
    "| imatrix     | int32      | 2    | (?,?)     |\n",
    "| itensor3    | int32      | 3    | (?,?,?)   |\n",
    "| itensor4    | int32      | 4    | (?,?,?,?) |\n",
    "| lscalar     | int64      | 0    | ()        |\n",
    "| lvector     | int64      | 1    | (?,)      |\n",
    "| lrow        | int64      | 2    | (1,?)     |\n",
    "| lcol        | int64      | 2    | (?,1)     |\n",
    "| lmatrix     | int64      | 2    | (?,?)     |\n",
    "| dscalar     | float64    | 0    | ()        |\n",
    "| dvector     | float64    | 1    | (?,)      |\n",
    "| drow        | float64    | 2    | (1,?)     |\n",
    "| dcol        | float64    | 2    | (?,1)     |\n",
    "| dmatrix     | float64    | 2    | (?,?)     |\n",
    "| fscalar     | float32    | 0    | ()        |\n",
    "| fvector     | float32    | 1    | (?,)      |\n",
    "| frow        | float32    | 2    | (1,?)     |\n",
    "| fcol        | float32    | 2    | (?,1)     |\n",
    "| fmatrix     | float32    | 2    | (?,?)     |\n",
    "| cscalar     | complex64  | 0    | ()        |\n",
    "| cvector     | complex64  | 1    | (?,)      |\n",
    "| crow        | complex64  | 2    | (1,?)     |\n",
    "| ccol        | complex64  | 2    | (?,1)     |\n",
    "| cmatrix     | complex64  | 2    | (?,?)     |\n",
    "| zscalar     | complex128 | 0    | ()        |\n",
    "| zvector     | complex128 | 1    | (?,)      |\n",
    "| zrow        | complex128 | 2    | (1,?)     |\n",
    "| zcol        | complex128 | 2    | (?,1)     |\n",
    "| zmatrix     | complex128 | 2    | (?,?)     |"
   ]
  },
  {
   "cell_type": "markdown",
   "metadata": {},
   "source": [
    "#### Shared variables\n",
    "\n",
    "Значение переменной можо задать явно, если например она присутствует в нескольких назависимых выражениях. Так же операции копирования между основной памятью и памятью GPU не бесплатна,  в таком случае можно использовать shared variables, это некоторый аналог глобальных переменных. Тип переменной определяется при инициализации:"
   ]
  },
  {
   "cell_type": "code",
   "execution_count": 10,
   "metadata": {},
   "outputs": [
    {
     "data": {
      "text/plain": [
       "array([[  8.,  12.],\n",
       "       [ 12.,  18.]], dtype=float32)"
      ]
     },
     "execution_count": 10,
     "metadata": {},
     "output_type": "execute_result"
    }
   ],
   "source": [
    "X = T.matrix()\n",
    "shared = theano.shared(\n",
    "                  np.array([[1, 2], \n",
    "                            [3, 4]], dtype=dtype))\n",
    "W = T.dot(X, shared)\n",
    "W.eval( { X: np.array([[2, 2], [3, 3]], dtype=dtype) })"
   ]
  },
  {
   "cell_type": "code",
   "execution_count": 11,
   "metadata": {},
   "outputs": [
    {
     "data": {
      "text/plain": [
       "array([[ 20.,  20.],\n",
       "       [ 30.,  30.]], dtype=float32)"
      ]
     },
     "execution_count": 11,
     "metadata": {},
     "output_type": "execute_result"
    }
   ],
   "source": [
    "shared.set_value(np.array([[5, 5], \n",
    "                          [5, 5]], dtype=dtype))\n",
    "W.eval( { X: np.array([[2, 2], [3, 3]], dtype=dtype) })"
   ]
  },
  {
   "cell_type": "markdown",
   "metadata": {},
   "source": [
    "#### Функции \n",
    "\n",
    "Для удобства можно определить функцию, которая вызываются также, как и обычная функция Python:"
   ]
  },
  {
   "cell_type": "code",
   "execution_count": 12,
   "metadata": {},
   "outputs": [
    {
     "data": {
      "text/plain": [
       "array(12.0)"
      ]
     },
     "execution_count": 12,
     "metadata": {},
     "output_type": "execute_result"
    }
   ],
   "source": [
    "x = T.dscalar()\n",
    "y = T.dscalar()\n",
    "shared = theano.shared(5.)\n",
    "\n",
    "foo = theano.function(inputs=[x, y], outputs=x**2 + y + shared)\n",
    "foo(2, 3)"
   ]
  },
  {
   "cell_type": "markdown",
   "metadata": {},
   "source": [
    "**inputs** - символы, которые будут параметрами\n",
    "\n",
    "**outputs** - выражение, которое будет вычисляться в качестве значения функции"
   ]
  },
  {
   "cell_type": "markdown",
   "metadata": {},
   "source": [
    "В графе выражения можно подменить какие-то символы с помощью параметра **givens**:"
   ]
  },
  {
   "cell_type": "code",
   "execution_count": 13,
   "metadata": {},
   "outputs": [
    {
     "data": {
      "text/plain": [
       "array(14.0)"
      ]
     },
     "execution_count": 13,
     "metadata": {},
     "output_type": "execute_result"
    }
   ],
   "source": [
    "x = T.dscalar()\n",
    "y = T.dscalar()\n",
    "shared = theano.shared(5.)\n",
    "\n",
    "foo = theano.function(inputs=[x], \n",
    "                      outputs=x**2 + y + shared, \n",
    "                      givens={ y: 5., shared: 5.}\n",
    ")\n",
    "\n",
    "foo(2.)"
   ]
  },
  {
   "cell_type": "markdown",
   "metadata": {},
   "source": [
    "Иногда после вычисления функции нужно обновить какое-то глобальное состояние. В этом случае можно использовать параметр **updates**. В качестве ключа - shared variable, в качестве значения - какое-то выражение, все переменные в котором определены. Shared Variables будут обновлены после каждого вызова функции. "
   ]
  },
  {
   "cell_type": "code",
   "execution_count": 17,
   "metadata": {},
   "outputs": [
    {
     "data": {
      "text/plain": [
       "array(14.0)"
      ]
     },
     "execution_count": 17,
     "metadata": {},
     "output_type": "execute_result"
    }
   ],
   "source": [
    "x = T.dscalar()\n",
    "y = T.dscalar()\n",
    "shared = theano.shared(5.)\n",
    "\n",
    "foo = theano.function(inputs=[x], \n",
    "                      outputs=x**2 + y + shared, \n",
    "                      givens={y: 5.},\n",
    "                      updates={shared: shared + x}, \n",
    ")\n",
    "\n",
    "foo(2)"
   ]
  },
  {
   "cell_type": "code",
   "execution_count": 18,
   "metadata": {},
   "outputs": [
    {
     "data": {
      "text/plain": [
       "array(16.0)"
      ]
     },
     "execution_count": 18,
     "metadata": {},
     "output_type": "execute_result"
    }
   ],
   "source": [
    "foo(2)"
   ]
  },
  {
   "cell_type": "markdown",
   "metadata": {},
   "source": [
    "### Пример: логистисеская регрессия\n",
    "\n",
    "Будем решать задачу бинарной классификации. Пусть у нас тренировочное множество $$T^l =\\{(x_i, y_i)\\}_{i=1}^{l}$$ где \n",
    "$x_i \\in \\mathbb R^n$, $y=\\{0, 1\\}$\n",
    "\n",
    "Функция классификации: $$a(x)=\\sigma(x \\cdot W + b)=\\frac{1}{1 + e^{-x \\cdot W + b}}$$\n",
    "\n",
    "где $x \\in \\mathbb R^n$,  $W$ - матрица размером $(n, 1)$, $b \\in \\mathbb R$ \n",
    "\n",
    "Функция потерь:\n",
    "$$Q(\\theta) = \\sum_{(x_i, y_i) \\in T^l}{-{y_i} \\log (\\sigma(x_i \\cdot W + b)) - (1-y_i) \\log (1-\\sigma(x_i \\cdot W + b))} \\to min_{W, b}$$\n",
    "\n",
    "То есть нам нужно найти такую матрицу $W$ (матрица из  одного столбца) и число $b$, чтобы минимизировать означенную функцию."
   ]
  },
  {
   "cell_type": "markdown",
   "metadata": {},
   "source": [
    "Будем распознавать рукописные цифры \"0\" и \"1\":"
   ]
  },
  {
   "cell_type": "code",
   "execution_count": 19,
   "metadata": {},
   "outputs": [],
   "source": [
    "X, Y = ds.load_digits(n_class=2, return_X_y=True)"
   ]
  },
  {
   "cell_type": "code",
   "execution_count": 20,
   "metadata": {},
   "outputs": [
    {
     "data": {
      "text/plain": [
       "<matplotlib.image.AxesImage at 0x7fa7a708f748>"
      ]
     },
     "execution_count": 20,
     "metadata": {},
     "output_type": "execute_result"
    },
    {
     "data": {
      "image/png": "[encoded data removed]",
      "text/plain": [
       "<matplotlib.figure.Figure at 0x7fa7a60bf208>"
      ]
     },
     "metadata": {},
     "output_type": "display_data"
    }
   ],
   "source": [
    "plt.imshow(X[2].reshape((8, 8)), cmap=plt.cm.gray_r)"
   ]
  },
  {
   "cell_type": "code",
   "execution_count": 21,
   "metadata": {},
   "outputs": [
    {
     "data": {
      "text/plain": [
       "<matplotlib.image.AxesImage at 0x7fa7a60eceb8>"
      ]
     },
     "execution_count": 21,
     "metadata": {},
     "output_type": "execute_result"
    },
    {
     "data": {
      "image/png": "[encoded data removed]",
      "text/plain": [
       "<matplotlib.figure.Figure at 0x7fa7a708f978>"
      ]
     },
     "metadata": {},
     "output_type": "display_data"
    }
   ],
   "source": [
    "plt.imshow(X[8].reshape((8, 8)), cmap=plt.cm.gray_r)"
   ]
  },
  {
   "cell_type": "markdown",
   "metadata": {},
   "source": [
    "Выделим тестовое и тренировочное множество"
   ]
  },
  {
   "cell_type": "code",
   "execution_count": 22,
   "metadata": {},
   "outputs": [],
   "source": [
    "from sklearn.model_selection import train_test_split\n",
    "\n",
    "X_train, X_test, Y_train, Y_test = train_test_split(X, Y)"
   ]
  },
  {
   "cell_type": "markdown",
   "metadata": {},
   "source": [
    "Определим все интересующие нас символы"
   ]
  },
  {
   "cell_type": "code",
   "execution_count": 23,
   "metadata": {},
   "outputs": [],
   "source": [
    "#размер тренировочного мноества\n",
    "num_samples = len(Y_train)\n",
    "#число признаков\n",
    "num_features = X_train.shape[1]\n",
    "\n",
    "# разделяемые переменные с тестовым множеством\n",
    "s_X_test = theano.shared(X_test)\n",
    "s_Y_test = theano.shared(Y_test.reshape((-1, 1)))\n",
    "\n",
    "# разделяемые переменные с тренировочным множеством\n",
    "s_X_train = theano.shared(X_train)\n",
    "s_Y_train = theano.shared(Y_train.reshape((-1, 1)))\n",
    "\n",
    "# соответствующие символы\n",
    "t_X = T.dmatrix('X')\n",
    "t_Y = T.matrix('Y', dtype='int64')\n",
    "\n",
    "# параметры модели\n",
    "W = theano.shared(np.random.randn(num_features, 1))\n",
    "b = theano.shared(0.)"
   ]
  },
  {
   "cell_type": "markdown",
   "metadata": {},
   "source": [
    "Определим результат классификации"
   ]
  },
  {
   "cell_type": "code",
   "execution_count": 24,
   "metadata": {},
   "outputs": [],
   "source": [
    "result = T.nnet.sigmoid(T.dot(t_X, W) + b)"
   ]
  },
  {
   "cell_type": "markdown",
   "metadata": {},
   "source": [
    "и функцию потерь, не забудем регулизатор"
   ]
  },
  {
   "cell_type": "code",
   "execution_count": 25,
   "metadata": {},
   "outputs": [],
   "source": [
    "cost = -T.mean(t_Y * T.log(result) + (1. - t_Y) * T.log(1. - result)) + T.sum(W ** 2)"
   ]
  },
  {
   "cell_type": "markdown",
   "metadata": {},
   "source": [
    "найдем градиенты $\\frac{\\partial cost}{\\partial W}$ и $\\frac{\\partial cost}{\\partial b}$"
   ]
  },
  {
   "cell_type": "code",
   "execution_count": 26,
   "metadata": {},
   "outputs": [],
   "source": [
    "grad_W = T.grad(cost, W)\n",
    "grab_b = T.grad(cost, b)"
   ]
  },
  {
   "cell_type": "markdown",
   "metadata": {},
   "source": [
    "Будем искать минимум обыкновенным градиентным спуском. Определим функцию **update**, которая обновляет состояние $W$ и $b$, вместо **t_X** и **t_Y** подставим тренировочные данные. Здес же определим  функцию **error**, которая будет считать ошибку на тестовых данных."
   ]
  },
  {
   "cell_type": "code",
   "execution_count": 27,
   "metadata": {},
   "outputs": [],
   "source": [
    "a = 0.1\n",
    "\n",
    "update = theano.function(\n",
    "    inputs=[],\n",
    "    outputs=cost,\n",
    "    givens={t_X: s_X_train, \n",
    "            t_Y: s_Y_train },\n",
    "    updates=[(W, W - 0.01 * grad_W), \n",
    "             (b, b - 0.01 * grab_b)]\n",
    ")\n",
    "\n",
    "error = theano.function(\n",
    "    inputs=[],\n",
    "    givens={t_X: s_X_test, \n",
    "            t_Y: s_Y_test},\n",
    "    outputs=T.mean(T.eq(result >= 0.5, t_Y))\n",
    ")"
   ]
  },
  {
   "cell_type": "markdown",
   "metadata": {},
   "source": [
    "Запустим градиентный спуск на 1000 итерациях (не стоит так делать на практике, алгоритм минимизации сильно упрощен)."
   ]
  },
  {
   "cell_type": "code",
   "execution_count": 28,
   "metadata": {},
   "outputs": [
    {
     "name": "stdout",
     "output_type": "stream",
     "text": [
      "109.48250101184121 0.5\n",
      "1.170565278277314 1.0\n",
      "0.08588492767225332 1.0\n",
      "0.07003050363602291 1.0\n",
      "0.06977946661856407 1.0\n",
      "0.06977424818832866 1.0\n",
      "0.0697730443165628 1.0\n",
      "0.0697719095777791 1.0\n",
      "0.06977077845395584 1.0\n",
      "0.06976964984041883 1.0\n"
     ]
    }
   ],
   "source": [
    "for epoch in range(1000):\n",
    "    cost_value = update()\n",
    "    error_value = error()\n",
    "    \n",
    "    if epoch % 100 == 0:\n",
    "        print(cost_value, error_value)"
   ]
  },
  {
   "cell_type": "markdown",
   "metadata": {},
   "source": [
    "Наконец определим функцию, которая будет классифицировать произвольный объект $x$"
   ]
  },
  {
   "cell_type": "code",
   "execution_count": 29,
   "metadata": {},
   "outputs": [],
   "source": [
    "predict = theano.function(inputs=[t_X], outputs=result >= 0.5)"
   ]
  },
  {
   "cell_type": "code",
   "execution_count": 30,
   "metadata": {},
   "outputs": [
    {
     "data": {
      "text/plain": [
       "array([[False]], dtype=bool)"
      ]
     },
     "execution_count": 30,
     "metadata": {},
     "output_type": "execute_result"
    }
   ],
   "source": [
    "predict(X[2].reshape((1, -1)))"
   ]
  },
  {
   "cell_type": "code",
   "execution_count": 31,
   "metadata": {},
   "outputs": [
    {
     "data": {
      "text/plain": [
       "array([[ True]], dtype=bool)"
      ]
     },
     "execution_count": 31,
     "metadata": {},
     "output_type": "execute_result"
    }
   ],
   "source": [
    "predict(X[8].reshape((1, -1)))"
   ]
  },
  {
   "cell_type": "code",
   "execution_count": null,
   "metadata": {
    "collapsed": true
   },
   "outputs": [],
   "source": []
  }
 ],
 "metadata": {
  "kernelspec": {
   "display_name": "Python 3",
   "language": "python",
   "name": "python3"
  },
  "language_info": {
   "codemirror_mode": {
    "name": "ipython",
    "version": 3
   },
   "file_extension": ".py",
   "mimetype": "text/x-python",
   "name": "python",
   "nbconvert_exporter": "python",
   "pygments_lexer": "ipython3",
   "version": "3.6.3"
  }
 },
 "nbformat": 4,
 "nbformat_minor": 1
}
