{
 "cells": [
  {
   "cell_type": "markdown",
   "metadata": {},
   "source": [
    "# Работа с xml и html\n",
    "\n",
    "Будем использовать пакет lxml (http://lxml.de/)"
   ]
  },
  {
   "cell_type": "code",
   "execution_count": 1,
   "metadata": {
    "collapsed": true
   },
   "outputs": [],
   "source": [
    "import lxml.html\n",
    "import lxml.etree\n",
    "import requests"
   ]
  },
  {
   "cell_type": "markdown",
   "metadata": {},
   "source": [
    "Пусть есть некоторый xml."
   ]
  },
  {
   "cell_type": "code",
   "execution_count": 2,
   "metadata": {
    "collapsed": true
   },
   "outputs": [],
   "source": [
    "our_xml = \"\"\"\n",
    "                <root>\n",
    "                    <a>\n",
    "                        text1\n",
    "                        <d q='d1'>\n",
    "                          text d1\n",
    "                        </d>\n",
    "                        <d q='d2'>\n",
    "                          text d2\n",
    "                        </d>\n",
    "                    </a>\n",
    "                    \n",
    "                    <b q='7'>                    \n",
    "                        text b\n",
    "                    </b>\n",
    "                    \n",
    "                    <b q='5'>\n",
    "                        text 3\n",
    "                        <d q='d3'>\n",
    "                           text d3\n",
    "                        </d>\n",
    "                    </b>\n",
    "                    \n",
    "                </root>\n",
    "            \"\"\""
   ]
  },
  {
   "cell_type": "code",
   "execution_count": 3,
   "metadata": {},
   "outputs": [],
   "source": [
    "tree = lxml.etree.fromstring(our_xml)"
   ]
  },
  {
   "cell_type": "markdown",
   "metadata": {},
   "source": [
    "Получаем дерево"
   ]
  },
  {
   "cell_type": "code",
   "execution_count": 4,
   "metadata": {},
   "outputs": [
    {
     "name": "stdout",
     "output_type": "stream",
     "text": [
      "a {}\n",
      "b {'q': '7'}\n",
      "b {'q': '5'}\n"
     ]
    }
   ],
   "source": [
    "for child in tree.getchildren():\n",
    "    print(child.tag, child.attrib)"
   ]
  },
  {
   "cell_type": "markdown",
   "metadata": {},
   "source": [
    "Удобные методы для XPath запросов:"
   ]
  },
  {
   "cell_type": "markdown",
   "metadata": {},
   "source": [
    "Все узлы с именем `<d>`"
   ]
  },
  {
   "cell_type": "code",
   "execution_count": 5,
   "metadata": {},
   "outputs": [
    {
     "data": {
      "text/plain": [
       "[<Element d at 0x7f1bf5314148>,\n",
       " <Element d at 0x7f1bf5314688>,\n",
       " <Element d at 0x7f1bf53146c8>]"
      ]
     },
     "execution_count": 5,
     "metadata": {},
     "output_type": "execute_result"
    }
   ],
   "source": [
    "tree.xpath('//d')"
   ]
  },
  {
   "cell_type": "markdown",
   "metadata": {},
   "source": [
    "Узел `<b>`, который является потомком узкла `<root>` и имеет аттрибут `q` равный 7"
   ]
  },
  {
   "cell_type": "code",
   "execution_count": 6,
   "metadata": {},
   "outputs": [
    {
     "data": {
      "text/plain": [
       "[<Element b at 0x7f1bf5309f08>]"
      ]
     },
     "execution_count": 6,
     "metadata": {},
     "output_type": "execute_result"
    }
   ],
   "source": [
    "tree.xpath('/root/b[@q=\"7\"]')"
   ]
  },
  {
   "cell_type": "markdown",
   "metadata": {},
   "source": [
    "Значения атрибута `q` у всех узлов `<d>` которые являются потомками всех узлов `<a>`"
   ]
  },
  {
   "cell_type": "code",
   "execution_count": 7,
   "metadata": {},
   "outputs": [
    {
     "data": {
      "text/plain": [
       "['d1', 'd2']"
      ]
     },
     "execution_count": 7,
     "metadata": {},
     "output_type": "execute_result"
    }
   ],
   "source": [
    "tree.xpath('//a//d/@q')"
   ]
  },
  {
   "cell_type": "markdown",
   "metadata": {},
   "source": [
    "Взять текстовый контент узла `<d>` с атрибутом `q` равным `d1`, который является прямым потомком узла `<a>`, который является прямым потомком корневого элемента. "
   ]
  },
  {
   "cell_type": "code",
   "execution_count": 8,
   "metadata": {},
   "outputs": [
    {
     "data": {
      "text/plain": [
       "['\\n                          text d1\\n                        ']"
      ]
     },
     "execution_count": 8,
     "metadata": {},
     "output_type": "execute_result"
    }
   ],
   "source": [
    "tree.xpath('/root/a/d[@q=\"d1\"]/text()')"
   ]
  },
  {
   "cell_type": "markdown",
   "metadata": {},
   "source": [
    "Когда xml большой (дамп Википедии), на помощь приходит SAX-like парсеры"
   ]
  },
  {
   "cell_type": "code",
   "execution_count": 9,
   "metadata": {},
   "outputs": [
    {
     "name": "stdout",
     "output_type": "stream",
     "text": [
      "   Start <root> attr: []\n",
      "     Start <a> attr: []\n",
      "      Text: text1\n",
      "       Start <d> attr: [('q', 'd1')]\n",
      "        Text: text d1\n",
      "       End </d>\n",
      "       Start <d> attr: [('q', 'd2')]\n",
      "        Text: text d2\n",
      "       End </d>\n",
      "     End </a>\n",
      "     Start <b> attr: [('q', '7')]\n",
      "      Text: text b\n",
      "     End </b>\n",
      "     Start <b> attr: [('q', '5')]\n",
      "      Text: text 3\n",
      "       Start <d> attr: [('q', 'd3')]\n",
      "        Text: text d3\n",
      "       End </d>\n",
      "     End </b>\n",
      "   End </root>\n"
     ]
    }
   ],
   "source": [
    "import xml.sax\n",
    "import io\n",
    "\n",
    "class MyContentHandler(xml.sax.ContentHandler):\n",
    "    def __init__(self):\n",
    "        self.level = 0\n",
    "    \n",
    "    def startElement(self, name, attributes):\n",
    "        self.level += 1\n",
    "        print('  ' * self.level, 'Start <%s>' % name, 'attr:', attributes.items())        \n",
    "        \n",
    "    def endElement(self, name):\n",
    "        print('  ' * self.level, 'End </%s>' % name)\n",
    "        self.level -= 1\n",
    "\n",
    "    def characters(self, data):\n",
    "        text = data.strip()\n",
    "        if len(text) > 0:\n",
    "            print('  ' * self.level, ' Text:', text)\n",
    "        \n",
    "handler = MyContentHandler()\n",
    "parser = xml.sax.make_parser()\n",
    "parser.setContentHandler(handler)\n",
    "parser.parse(io.StringIO(our_xml))\n",
    "#parser.parse(open('data/wiki.xml'))"
   ]
  },
  {
   "cell_type": "markdown",
   "metadata": {},
   "source": [
    "C HTML можно работать аналогичным образом, lxml пытается привести его к нормальному виду (добавить необходимые по спецификации теги, исправить ошибки и пр.)"
   ]
  },
  {
   "cell_type": "code",
   "execution_count": 10,
   "metadata": {},
   "outputs": [
    {
     "data": {
      "text/plain": [
       "200"
      ]
     },
     "execution_count": 10,
     "metadata": {},
     "output_type": "execute_result"
    }
   ],
   "source": [
    "response = requests.get('http://fontanka.ru')\n",
    "response.status_code"
   ]
  },
  {
   "cell_type": "code",
   "execution_count": 11,
   "metadata": {},
   "outputs": [
    {
     "name": "stdout",
     "output_type": "stream",
     "text": [
      "<!DOCTYPE html>\n",
      "<html>\n",
      "<head>\n",
      "  <meta charset=\"windows-1251\" />\n",
      "\n",
      "  <meta name=\"Keywords\" content=\"Санкт-Петербург, Петер\n"
     ]
    }
   ],
   "source": [
    "print(response.text.strip()[:120])"
   ]
  },
  {
   "cell_type": "code",
   "execution_count": 12,
   "metadata": {
    "collapsed": true
   },
   "outputs": [],
   "source": [
    "tree = lxml.html.fromstring(response.text)"
   ]
  },
  {
   "cell_type": "code",
   "execution_count": 13,
   "metadata": {},
   "outputs": [
    {
     "data": {
      "text/plain": [
       "['Новости Санкт-Петербурга, последние новости дня, новости бизнеса - Фонтанка.ру']"
      ]
     },
     "execution_count": 13,
     "metadata": {},
     "output_type": "execute_result"
    }
   ],
   "source": [
    "tree.xpath('//title/text()')"
   ]
  },
  {
   "cell_type": "code",
   "execution_count": 14,
   "metadata": {},
   "outputs": [
    {
     "data": {
      "text/plain": [
       "['В Петербурге пациентка умерла после ФГДС в частной клинике',\n",
       " '«Фонтанка» за 60 секунд – 20 сентября',\n",
       " 'Приземление воздушного шара во дворе жилого дома в Петергофе оказалось «в законе»',\n",
       " 'Трое российских спецназовцев ранены в Сирии, Минобороны обвиняет США',\n",
       " 'Движение по Садовой ограничат до конца апреля из-за ремонта фасада',\n",
       " 'Четыреста человек вывели из ТРЦ на севере Петербурга во время проверки «бомбы»',\n",
       " 'В Тихвине девочки-подростки избили сверстницу',\n",
       " 'ТРЦ «Монпансье» эвакуируют из-за коробки с надписью «бомба»',\n",
       " 'Марафон телефонных террористов: День десятый',\n",
       " 'В Сестрорецке под колесами машины пострадал пешеход',\n",
       " 'На детском катке в ТРК «РИО» посетителям показали порно',\n",
       " 'Расследование причин возгорания в Эрмитаже продлили',\n",
       " 'Ростовские шахтёры оштрафованы после жалобы Путину',\n",
       " 'Эрмитаж откроет исторические залы, не видевшие посетителей десятки лет',\n",
       " 'Эрмитаж и Русский музей будут обучать неслышащих гидов',\n",
       " 'В Дании гражданина Финляндии будут судить за терроризм',\n",
       " 'В Кронштадте тушили Чумной форт',\n",
       " 'Двоих из упавших замертво на газон в Купчино увезли в больницу',\n",
       " 'Скульптуры с костела Святой Екатерины и Горного института уедут в Старую Деревню',\n",
       " 'Движение в районе Мурино на КАД ограничат',\n",
       " 'Поклонская: Николай II поможет в карьере',\n",
       " 'В Купчино трое мужчин замертво рухнули на газон',\n",
       " 'В Финляндии разрешат есть насекомых',\n",
       " 'В Петербурге появится финский завод коммунальной техники',\n",
       " 'В НИИ гриппа рассказали, стоит ли ждать эпидемию в Петербурге',\n",
       " '10 расчётов приехали к «Владимирскому пассажу» на сообщение о пожаре',\n",
       " 'Пиотровский: Эрмитаж проиграл битву за Дворцовую площадь',\n",
       " 'Руководство Кировского района Ленобласти оказалось в больнице после ДТП',\n",
       " 'После статьи «Фонтанки» о бесквартирных дольщиках «Я — Романтик» возбуждено дело о мошенничестве',\n",
       " 'Комиссии по делам несовершеннолетних займутся подростковыми самоубийствами',\n",
       " 'Прыжок семьи из окна горящей квартиры на Авиаконструкторов закончился уголовным делом',\n",
       " 'Самая дешёвая квартира в Кудрово обойдётся в 1,67 млн рублей',\n",
       " 'Смольный сдал в аренду первый из «убитых» паркингов за 66 млн',\n",
       " 'Перед просьбой о санации Бинбанк получил от ЦБ кредит, как и «Открытие»',\n",
       " 'ПСК передумала банкротить Дом книги из-за долгов по электричеству',\n",
       " 'Поклонская о задержании поджигателей: «МВД и Генпрокуратура отреагировали на мой запрос»',\n",
       " 'В Лахта Центре завершили монтаж первой части «парящей» входной арки',\n",
       " 'Сара Коннор снова сразится с «Терминатором»',\n",
       " 'Покои патриарха в Царском Селе отреставрируют за 2,8 млрд рублей',\n",
       " 'Спикер ЗакСа подтвердил самопроизвольный пуск ракет во время учений «Запад-2017»',\n",
       " 'Застройщики в розыске и \"обезглавленный\" кадастр',\n",
       " 'Российские туристы не пострадали при землетрясении в Мексике',\n",
       " 'В Екатеринбурге предложили восстановить дом Ипатьева',\n",
       " 'Выложен первый трейлер новой «Лары Крофт» с Алисией Викандер',\n",
       " 'Петербуржец, рассказывавший пенсионерам о мнимых ДТП, получил 6 лет колонии',\n",
       " 'Роскомнадзор заблокировал крупнейший сайт с пиратским ПО для Android из-за стратегии про тоталитарное общество',\n",
       " '«Матильду» покажут в Новосибирске во время митинга Навального',\n",
       " 'В Новой Голландии покажут фрагмент не выпущенного балета Серебренникова «Нуреев»',\n",
       " 'МРОТ повысят до прожиточного минимума к 2019 году',\n",
       " 'Глава московского штаба Навального отрицает инсценировку нападения: Глупость, наглость и «ад адовый»',\n",
       " 'Покалеченную черепаху с Мальдив приютил Петербургский океанариум',\n",
       " 'В Петербурге согласовали название сквера в честь Довлатова',\n",
       " 'МВД: Глава московского штаба Навального заплатил за нападение на себя',\n",
       " 'Дюков: «Зенит» самоокупается',\n",
       " 'Экс-главу службы безопасности «Роснефти» хотят допросить по делу Белых',\n",
       " 'В Петербурге четыре фирмы пытались легализовать сотни мигрантов',\n",
       " 'СМИ: В Москве «заминировали» больше десятка управ',\n",
       " 'Неуправляемые ракеты вертолета под Лугой попали по псковским военнослужащим',\n",
       " 'Глава совета директоров «Зенита»: Девять игроков из Петербурга достойны сборной',\n",
       " 'Защитивший людей от террориста в Турку афганец может стать инвалидом',\n",
       " 'ФАС: Госбанки не должны покупать другие финансовые организации',\n",
       " 'По делам о «горячих» противниках «Матильды» задержаны 10 человек - источник',\n",
       " 'Дюков: Победа «Зенита» в Лиге чемпионов — мечта',\n",
       " 'Бомбы на Дворцовой не нашли',\n",
       " '«Левада»: Выдуманный преемник Путина обогнал Навального на выборах',\n",
       " 'На Новочеркасском Nissan решил стать трамваем',\n",
       " 'Бинбанк официально подтвердил переговоры о санации с ЦБ',\n",
       " 'ОМОН обследует подозрительную коробку у Александрийского столпа',\n",
       " 'Депутаты решили штрафовать чиновников за воспрепятствование своей деятельности',\n",
       " 'Резник просит прокуратуру проверить слова чиновника про «изрыгающих проклятия» сторонников Навального']"
      ]
     },
     "execution_count": 14,
     "metadata": {},
     "output_type": "execute_result"
    }
   ],
   "source": [
    "tree.xpath('//div[contains(@class, \"common_news\")]//div[@class=\"entry_title\"]/a/text()')"
   ]
  },
  {
   "cell_type": "code",
   "execution_count": null,
   "metadata": {
    "collapsed": true
   },
   "outputs": [],
   "source": []
  }
 ],
 "metadata": {
  "kernelspec": {
   "display_name": "Python 3",
   "language": "python",
   "name": "python3"
  },
  "language_info": {
   "codemirror_mode": {
    "name": "ipython",
    "version": 3
   },
   "file_extension": ".py",
   "mimetype": "text/x-python",
   "name": "python",
   "nbconvert_exporter": "python",
   "pygments_lexer": "ipython3",
   "version": "3.5.3"
  }
 },
 "nbformat": 4,
 "nbformat_minor": 1
}
