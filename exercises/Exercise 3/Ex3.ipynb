{
 "cells": [
  {
   "cell_type": "code",
   "execution_count": 12,
   "metadata": {
    "collapsed": false
   },
   "outputs": [
    {
     "name": "stderr",
     "output_type": "stream",
     "text": [
      "\n",
      "  0%|                                                                                   | 0/9000000000 [00:00<?, ?it/s]\n",
      "  0%|                                                              | 278067/9000000000 [2:39:15<85910:26:49, 29.10it/s]\n"
     ]
    }
   ],
   "source": [
    "import lxml.html\n",
    "import lxml.etree\n",
    "import requests\n",
    "#from tqdm import tqdm\n",
    "from sqlalchemy import create_engine\n",
    "from sqlalchemy import Column, Integer, Text\n",
    "from sqlalchemy.orm import sessionmaker\n",
    "from sqlalchemy.ext.declarative import declarative_base\n",
    "\n",
    "Base = declarative_base()\n",
    "\n",
    "class Question(Base):\n",
    "    __tablename__ = 'questions'\n",
    "    id = Column(Integer, primary_key=True)\n",
    "    question = Column(Text, nullable=False)\n",
    "    answer = Column(Text, nullable=False)\n",
    "    \n",
    "    def __init__(self, text, answer):\n",
    "        self.question = text\n",
    "        self.answer = answer\n",
    "\n",
    "engine = create_engine('sqlite:///chgk.db')\n",
    "Base.metadata.bind = engine\n",
    "Base.metadata.create_all()\n",
    "\n",
    "db_session = sessionmaker(bind=engine)()\n",
    "\n",
    "def moveNextPage(link):\n",
    "    return lxml.html.fromstring(requests.get('https://db.chgk.info/' + link).text)\n",
    "\n",
    "#response = requests.get('https://db.chgk.info')\n",
    "#tree = lxml.html.fromstring(response.text)\n",
    "\n",
    "tree = moveNextPage('')\n",
    "nextPageIsExist = True\n",
    "pbar = tqdm(total=int(9e9))\n",
    "while nextPageIsExist:\n",
    "    urles = tree.xpath('//table[@class=\"last_packages\"]//td[2]/a/@href')\n",
    "    for url in urles:\n",
    "        for q in moveNextPage(url).xpath('//div[@class=\"question\"]'):\n",
    "            question = ''.join(q.xpath('p/text()')).replace('\\n', '')\n",
    "            answer = ''.join(q.xpath('.//p/strong[@class=\"Answer\"]/../text()')).replace('/n', '')\n",
    "            db_session.add(Question(question, answer))\n",
    "            pbar.update(1)\n",
    "    db_session.commit()\n",
    "            \n",
    "    nextPage = tree.xpath('//li[@class=\"pager-next\"]')\n",
    "    if nextPage:\n",
    "        tree = moveNextPage(nextPage[0].xpath('a/@href')[0])\n",
    "    else:\n",
    "        nextPageIsExist = False\n",
    "pbar.close()\n",
    "print('Done')"
   ]
  }
 ],
 "metadata": {
  "anaconda-cloud": {},
  "kernelspec": {
   "display_name": "Python [default]",
   "language": "python",
   "name": "python3"
  },
  "language_info": {
   "codemirror_mode": {
    "name": "ipython",
    "version": 3
   },
   "file_extension": ".py",
   "mimetype": "text/x-python",
   "name": "python",
   "nbconvert_exporter": "python",
   "pygments_lexer": "ipython3",
   "version": "3.5.2"
  }
 },
 "nbformat": 4,
 "nbformat_minor": 2
}
