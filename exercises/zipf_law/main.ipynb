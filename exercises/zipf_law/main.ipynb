{
 "cells": [
  {
   "cell_type": "code",
   "execution_count": 2,
   "metadata": {
    "collapsed": true
   },
   "outputs": [],
   "source": [
    "from elasticsearch import Elasticsearch\n",
    "from sqlalchemy import create_engine\n",
    "from sqlalchemy import Column, Integer, Text\n",
    "from sqlalchemy.orm import sessionmaker\n",
    "from sqlalchemy.ext.declarative import declarative_base\n",
    "from tqdm import tqdm\n",
    "\n",
    "Base = declarative_base()\n",
    "\n",
    "\n",
    "class Question(Base):\n",
    "    __tablename__ = 'questions'\n",
    "    id = Column(Integer, primary_key=True)\n",
    "    question = Column(Text, nullable=False)\n",
    "    answer = Column(Text, nullable=False)\n",
    "    \n",
    "    def __init__(self, text, answer):\n",
    "        self.question = text\n",
    "        self.answer = answer\n",
    "\n",
    "\n",
    "def init_db(db_url):\n",
    "    engine = create_engine(db_url)\n",
    "    Base.metadata.bind = engine\n",
    "    Base.metadata.create_all()\n",
    "    return sessionmaker(bind=engine)\n",
    "\n",
    "\n",
    "db_session = init_db('sqlite:///chgk.db')()"
   ]
  },
  {
   "cell_type": "code",
   "execution_count": 3,
   "metadata": {
    "collapsed": true
   },
   "outputs": [],
   "source": [
    "import numpy as np"
   ]
  },
  {
   "cell_type": "code",
   "execution_count": 4,
   "metadata": {
    "collapsed": false
   },
   "outputs": [],
   "source": [
    "data = [instance.question for instance in db_session.query(Question)]"
   ]
  },
  {
   "cell_type": "code",
   "execution_count": 70,
   "metadata": {
    "collapsed": false
   },
   "outputs": [],
   "source": [
    "tf_map = {}\n",
    "i = 0\n",
    "for text in data:\n",
    "    i += 1\n",
    "    words = text.split(' ')\n",
    "    for w in words:\n",
    "        if not w.isidentifier():\n",
    "            continue\n",
    "        word = w.lower()\n",
    "        if word not in tf_map.keys():\n",
    "            tf_map[word] = 0\n",
    "        tf_map[word] += 1"
   ]
  },
  {
   "cell_type": "code",
   "execution_count": 71,
   "metadata": {
    "collapsed": false
   },
   "outputs": [],
   "source": [
    "import operator\n",
    "sorted_map = sorted(tf_map.items(), key=operator.itemgetter(1), reverse=True)"
   ]
  },
  {
   "cell_type": "code",
   "execution_count": 72,
   "metadata": {
    "collapsed": false
   },
   "outputs": [],
   "source": [
    "import matplotlib.pyplot as plt\n",
    "from matplotlib.ticker import FuncFormatter, MaxNLocator\n",
    "\n",
    "def format_fn(tick_val, tick_pos):\n",
    "    if int(tick_val) in xs:\n",
    "        return labels[int(tick_val)]\n",
    "    else:\n",
    "        return ''"
   ]
  },
  {
   "cell_type": "code",
   "execution_count": 76,
   "metadata": {
    "collapsed": false
   },
   "outputs": [
    {
     "name": "stdout",
     "output_type": "stream",
     "text": [
      "['в', 'и', 'на', 'что', 'из', 'назовите', 'не', 'с', 'а', 'это']\n"
     ]
    },
    {
     "data": {
      "image/png": "[encoded data removed]",
      "text/plain": [
       "<matplotlib.figure.Figure at 0x1582895ada0>"
      ]
     },
     "metadata": {},
     "output_type": "display_data"
    }
   ],
   "source": [
    "cutted_map = sorted_map[:10]\n",
    "fig = plt.figure()\n",
    "ax = fig.add_subplot(111)\n",
    "labels = [x[0] for x in cutted_map]\n",
    "print(labels)\n",
    "\n",
    "ax.xaxis.set_major_formatter(FuncFormatter(format_fn))\n",
    "ax.xaxis.set_major_locator(MaxNLocator(integer=True))\n",
    "ax.plot([x[1] for x in cutted_map])\n",
    "\n",
    "plt.ylabel('Document frequency')\n",
    "plt.xlabel('Words')\n",
    "plt.show()"
   ]
  },
  {
   "cell_type": "code",
   "execution_count": null,
   "metadata": {
    "collapsed": true
   },
   "outputs": [],
   "source": []
  }
 ],
 "metadata": {
  "anaconda-cloud": {},
  "kernelspec": {
   "display_name": "Python [conda root]",
   "language": "python",
   "name": "conda-root-py"
  },
  "language_info": {
   "codemirror_mode": {
    "name": "ipython",
    "version": 3
   },
   "file_extension": ".py",
   "mimetype": "text/x-python",
   "name": "python",
   "nbconvert_exporter": "python",
   "pygments_lexer": "ipython3",
   "version": "3.5.2"
  }
 },
 "nbformat": 4,
 "nbformat_minor": 2
}
