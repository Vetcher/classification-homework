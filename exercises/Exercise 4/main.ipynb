{
 "cells": [
  {
   "cell_type": "code",
   "execution_count": 1,
   "metadata": {
    "collapsed": true
   },
   "outputs": [],
   "source": [
    "import lxml.html\n",
    "import lxml.etree\n",
    "import requests\n",
    "from datetime import timedelta, datetime\n",
    "from sqlalchemy import func, create_engine\n",
    "from sqlalchemy import Column, Integer, Text, DateTime\n",
    "from sqlalchemy.schema import Index\n",
    "from sqlalchemy.orm import sessionmaker\n",
    "from sqlalchemy.ext.declarative import declarative_base"
   ]
  },
  {
   "cell_type": "code",
   "execution_count": 2,
   "metadata": {
    "collapsed": true
   },
   "outputs": [],
   "source": [
    "Base = declarative_base()\n",
    "\n",
    "class News(Base):\n",
    "    __tablename__ = 'news'\n",
    "    id = Column(Integer, primary_key=True)\n",
    "    title = Column(Text, nullable=False)\n",
    "    category = Column(Text, nullable=False)\n",
    "    date = Column(Text, nullable=False)\n",
    "    \n",
    "    def __init__(self, title, category, date):\n",
    "        self.title = title\n",
    "        self.category = category\n",
    "        self.date = date\n",
    "\n",
    "\n",
    "def init_db(db_url):\n",
    "    engine = create_engine(db_url)\n",
    "    Base.metadata.bind = engine\n",
    "    Base.metadata.create_all()\n",
    "    return sessionmaker(bind=engine)\n",
    "\n",
    "db_session = init_db('sqlite:///ria.ru.db')()"
   ]
  },
  {
   "cell_type": "code",
   "execution_count": 3,
   "metadata": {
    "collapsed": true
   },
   "outputs": [],
   "source": [
    "def get(link, cat):\n",
    "    url = 'https://ria.ru/'+ cat + link\n",
    "    return lxml.html.fromstring(requests.get(url).text)"
   ]
  },
  {
   "cell_type": "code",
   "execution_count": 5,
   "metadata": {
    "collapsed": true
   },
   "outputs": [],
   "source": [
    "def daterange(start_date, number_of_days):\n",
    "    for n in range(number_of_days):\n",
    "        yield start_date - timedelta(n)"
   ]
  },
  {
   "cell_type": "code",
   "execution_count": 6,
   "metadata": {
    "collapsed": false
   },
   "outputs": [
    {
     "name": "stdout",
     "output_type": "stream",
     "text": [
      "+ 797\n",
      "+ 1602\n",
      "+ 2318\n",
      "+ 3044\n",
      "+ 3708\n",
      "Exeption HTTPSConnectionPool(host='ria.ru', port=443): Max retries exceeded with url: /politics/20170313/ (Caused by SSLError(SSLError(\"bad handshake: SysCallError(-1, 'Unexpected EOF')\",),)) on politics 13.03.2017\n",
      "+ 4362\n",
      "+ 5138\n",
      "+ 5850\n",
      "politics 5850 + 5850\n",
      "+ 600\n",
      "+ 1199\n",
      "+ 1799\n",
      "+ 2392\n",
      "+ 2990\n",
      "+ 3573\n",
      "+ 4158\n",
      "+ 4741\n",
      "society 10591 + 4741\n",
      "+ 557\n",
      "+ 1115\n",
      "+ 1653\n",
      "Exeption HTTPSConnectionPool(host='ria.ru', port=443): Max retries exceeded with url: /economy/20170709/ (Caused by SSLError(SSLError(\"bad handshake: SysCallError(-1, 'Unexpected EOF')\",),)) on economy 09.07.2017\n",
      "+ 2195\n",
      "+ 2712\n",
      "+ 3262\n",
      "+ 3813\n",
      "+ 4382\n",
      "economy 14973 + 4382\n",
      "+ 1000\n",
      "+ 2000\n",
      "+ 3000\n",
      "+ 4000\n",
      "+ 5000\n",
      "+ 6000\n",
      "+ 7000\n",
      "+ 8000\n",
      "world 22973 + 8000\n",
      "Exeption HTTPSConnectionPool(host='ria.ru', port=443): Max retries exceeded with url: /incidents/20171214/ (Caused by SSLError(SSLError(\"bad handshake: SysCallError(-1, 'Unexpected EOF')\",),)) on incidents 14.12.2017\n",
      "+ 968\n",
      "+ 1952\n",
      "+ 2939\n",
      "+ 3922\n",
      "+ 4855\n",
      "+ 5819\n",
      "Exeption HTTPSConnectionPool(host='ria.ru', port=443): Max retries exceeded with url: /incidents/20170208/ (Caused by SSLError(SSLError(\"bad handshake: SysCallError(-1, 'Unexpected EOF')\",),)) on incidents 08.02.2017\n",
      "+ 6797\n",
      "+ 7772\n",
      "incidents 30745 + 7772\n",
      "+ 705\n",
      "+ 1417\n",
      "+ 2011\n",
      "+ 2587\n",
      "+ 3179\n",
      "Exeption HTTPSConnectionPool(host='ria.ru', port=443): Max retries exceeded with url: /science/20170322/ (Caused by SSLError(SSLError(\"bad handshake: SysCallError(-1, 'Unexpected EOF')\",),)) on science 22.03.2017\n",
      "+ 3705\n",
      "+ 4331\n",
      "+ 4918\n",
      "science 35663 + 4918\n",
      "+ 733\n",
      "+ 1418\n",
      "Exeption HTTPSConnectionPool(host='ria.ru', port=443): Max retries exceeded with url: /culture/20170828/ (Caused by SSLError(SSLError(\"bad handshake: SysCallError(-1, 'Unexpected EOF')\",),)) on culture 28.08.2017\n",
      "+ 2086\n",
      "+ 2691\n",
      "Exeption HTTPSConnectionPool(host='ria.ru', port=443): Max retries exceeded with url: /culture/20170517/ (Caused by SSLError(SSLError(\"bad handshake: SysCallError(-1, 'Unexpected EOF')\",),)) on culture 17.05.2017\n",
      "+ 3303\n",
      "+ 4000\n",
      "+ 4661\n",
      "+ 5338\n",
      "culture 41001 + 5338\n",
      "+ 444\n",
      "+ 938\n",
      "+ 1541\n",
      "Exeption HTTPSConnectionPool(host='ria.ru', port=443): Max retries exceeded with url: /religion/20170714/ (Caused by SSLError(SSLError(\"bad handshake: SysCallError(-1, 'Unexpected EOF')\",),)) on religion 14.07.2017\n",
      "+ 2102\n",
      "+ 2719\n",
      "+ 3321\n",
      "+ 4035\n",
      "+ 4643\n",
      "religion 45644 + 4643\n"
     ]
    }
   ],
   "source": [
    "categories = ['politics', 'society', 'economy', 'world', 'incidents', 'science', 'culture', 'religion']\n",
    "amount_of_days = 400\n",
    "today = datetime.now()\n",
    "total = 0\n",
    "for cat in categories:\n",
    "    i = 0\n",
    "    d = 0\n",
    "    for day in daterange(today, amount_of_days):\n",
    "        d += 1\n",
    "        #print(cat, datetime.strftime(day, '%d.%m.%Y'))\n",
    "        try:\n",
    "            tree = get(datetime.strftime(day, '/%Y%m%d/'), cat)\n",
    "        except Exception as e:\n",
    "            print('Exeption', e, 'on', cat, datetime.strftime(day, '%d.%m.%Y'))\n",
    "            continue\n",
    "        title_items = tree.xpath('//div[@class=\"b-list__item \"]/a/span[@class=\"b-list__item-title\"]/span')\n",
    "        for title in title_items:\n",
    "            if title.text is None:\n",
    "                continue\n",
    "            news = News(title.text, cat, datetime.strftime(day, '%d.%m.%Y'))\n",
    "            db_session.add(news)\n",
    "            i += 1\n",
    "        db_session.commit()\n",
    "        if d%50 == 0:\n",
    "            print('+', i) \n",
    "    total += i\n",
    "    print(cat, total, '+', i)"
   ]
  },
  {
   "cell_type": "code",
   "execution_count": 18,
   "metadata": {
    "collapsed": true
   },
   "outputs": [],
   "source": [
    "from sklearn.feature_extraction.text import CountVectorizer\n",
    "from sklearn.feature_extraction.text import TfidfTransformer\n",
    "from sklearn.linear_model import SGDClassifier\n",
    "from sklearn.pipeline import Pipeline\n",
    "\n",
    "text_clf = Pipeline([('vectorizer', CountVectorizer(max_df=0.2, ngram_range=(1,2))),\n",
    "                         ('tfidf', TfidfTransformer(norm='l2')),\n",
    "                         ('clf', SGDClassifier(penalty='l2'))])\n",
    "\n",
    "text_clf = text_clf.fit([n.title.lower() for n in db_session.query(News).order_by(News.id)],\n",
    "                       [n.category for n in db_session.query(News).order_by(News.id)])"
   ]
  },
  {
   "cell_type": "code",
   "execution_count": 25,
   "metadata": {
    "collapsed": false,
    "scrolled": true
   },
   "outputs": [
    {
     "name": "stdout",
     "output_type": "stream",
     "text": [
      "['science' 'religion' 'world' 'economy' 'economy' 'culture']\n"
     ]
    }
   ],
   "source": [
    "data = ['Ученые выяснили, когда люди больше всего интересуются сексом',\n",
    "       'Патриарх Кирилл призвал верующих усилить молитву о мире на Украине',\n",
    "       'Генсек ООН подтвердил право Эр-Рияда на самооборону',\n",
    "       'Стали известны главные темы инвестфорума в Сочи',\n",
    "       'Минфин: Украина не заплатила РФ по долгу, дефолт наступит 31 декабря',\n",
    "       'Путин поздравил писателя Даниила Гранина с днем рождения']\n",
    "print(text_clf.predict(data))"
   ]
  }
 ],
 "metadata": {
  "kernelspec": {
   "display_name": "Python [default]",
   "language": "python",
   "name": "python3"
  },
  "language_info": {
   "codemirror_mode": {
    "name": "ipython",
    "version": 3
   },
   "file_extension": ".py",
   "mimetype": "text/x-python",
   "name": "python",
   "nbconvert_exporter": "python",
   "pygments_lexer": "ipython3",
   "version": "3.5.2"
  }
 },
 "nbformat": 4,
 "nbformat_minor": 2
}
